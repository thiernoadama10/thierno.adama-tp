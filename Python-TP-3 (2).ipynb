{
 "cells": [
  {
   "cell_type": "markdown",
   "id": "d68c1dee",
   "metadata": {
    "id": "d68c1dee"
   },
   "source": [
    "# Practical_3: Iterable objects or Containers"
   ]
  },
  {
   "cell_type": "markdown",
   "id": "e2b2a167-761c-4c32-ab88-c722ad9d0997",
   "metadata": {
    "id": "bea983a3"
   },
   "source": []
  },
  {
   "cell_type": "markdown",
   "id": "dd783d79-dd84-4f1d-81bb-1ce002c6f563",
   "metadata": {
    "id": "bea983a3"
   },
   "source": []
  },
  {
   "cell_type": "markdown",
   "id": "0b55571f-a765-4ce0-8c1f-7e76bfab7096",
   "metadata": {
    "id": "bea983a3"
   },
   "source": [
    "---\n",
    "\n",
    "### Exercise 1:\n",
    "Create a list of integers from 1 to 10.\n",
    "\n",
    "```python\n",
    "# Exercise 1\n",
    "```"
   ]
  },
  {
   "cell_type": "code",
   "execution_count": 6,
   "id": "368fd200-71f1-44ed-81f6-68c79818a573",
   "metadata": {},
   "outputs": [],
   "source": [
    "list_integers=list( range(1,11))"
   ]
  },
  {
   "cell_type": "markdown",
   "id": "251c2264-0eed-4d2d-b188-d71c37753d8d",
   "metadata": {
    "id": "bea983a3"
   },
   "source": [
    "---\n",
    "\n",
    "### Exercise 2:\n",
    "Create a tuple containing the elements `\"apple\"`, `\"banana\"`, and `\"cherry\"`.\n",
    "\n",
    "```python\n",
    "# Exercise 2\n",
    "```"
   ]
  },
  {
   "cell_type": "code",
   "execution_count": 7,
   "id": "167f3b46-00ec-4bff-ac31-7f2fb11f4d46",
   "metadata": {},
   "outputs": [],
   "source": [
    "fruits=(\"apple\",\"banana\",\"cherry\")"
   ]
  },
  {
   "cell_type": "markdown",
   "id": "2fa122e1-9bb6-4a3f-a768-1b713a9aa6bd",
   "metadata": {
    "id": "bea983a3"
   },
   "source": [
    "---\n",
    "\n",
    "### Exercise 3:\n",
    "Convert the list `numbers = [10, 20, 30, 40]` into a tuple.\n",
    "\n",
    "```python\n",
    "# Exercise 3"
   ]
  },
  {
   "cell_type": "code",
   "execution_count": 8,
   "id": "1bc220c7-3d07-45c4-be7d-6c0d1f2eb945",
   "metadata": {},
   "outputs": [],
   "source": [
    "numbers = [10, 20, 30, 40]\n",
    "numb=tuple(numbers)"
   ]
  },
  {
   "cell_type": "markdown",
   "id": "7fc7fff7-520a-4319-9ab4-9be9c37b9a5c",
   "metadata": {
    "id": "bea983a3"
   },
   "source": [
    "```\n",
    "\n",
    "---\n",
    "\n",
    "### Exercise 4:\n",
    "Create a set containing the elements `1, 2, 3, 4, 5`.\n",
    "\n",
    "```python\n",
    "# Exercise 4"
   ]
  },
  {
   "cell_type": "code",
   "execution_count": 11,
   "id": "f673b209-4c36-41d6-a13c-66e650666ddb",
   "metadata": {},
   "outputs": [],
   "source": [
    "element=set(range(1,6))"
   ]
  },
  {
   "cell_type": "markdown",
   "id": "ebb536f9-d12e-45cc-865c-fa936ad904a3",
   "metadata": {
    "id": "bea983a3"
   },
   "source": [
    "```\n",
    "\n",
    "---\n",
    "\n",
    "### Exercise 5:\n",
    "Create a dictionary `student` with the keys `\"name\"`, `\"age\"`, and `\"grade\"` and corresponding values `\"Alice\"`, `20`, and `\"A\"`.\n",
    "\n",
    "```python\n",
    "# Exercise 5"
   ]
  },
  {
   "cell_type": "code",
   "execution_count": 12,
   "id": "0db9c7a4-1b69-4f70-839c-c6a2a1ff78e5",
   "metadata": {},
   "outputs": [],
   "source": [
    "student={\"name\":\"Alice\",\"age\":20,\"grade\":\"A\"}"
   ]
  },
  {
   "cell_type": "markdown",
   "id": "9f7ebfd4-ada0-41eb-9fc9-56dfad823fc4",
   "metadata": {
    "id": "bea983a3"
   },
   "source": [
    "```\n",
    "\n",
    "---\n",
    "\n",
    "### Exercise 6:\n",
    "Access the second element of the list `[10, 20, 30, 40, 50]` using indexing.\n",
    "\n",
    "```python\n",
    "# Exercise 6"
   ]
  },
  {
   "cell_type": "code",
   "execution_count": null,
   "id": "f78e35ee-4f24-470c-820b-a6a7ac5d0fdc",
   "metadata": {},
   "outputs": [],
   "source": [
    "lis=[10, 20, 30, 40, 50]\n",
    "lis[1]"
   ]
  },
  {
   "cell_type": "code",
   "execution_count": null,
   "id": "e86d084f-3409-4d18-ae23-6de38b8b8eaa",
   "metadata": {
    "id": "bea983a3"
   },
   "outputs": [],
   "source": [
    "```\n",
    "\n",
    "---\n",
    "\n",
    "### Exercise 7:\n",
    "Change the third element of the list `fruits = [\"apple\", \"banana\", \"cherry\", \"orange\"]` to `'mango'`.\n",
    "\n",
    "```python\n",
    "# Exercise 7"
   ]
  },
  {
   "cell_type": "code",
   "execution_count": 16,
   "id": "25514634-9912-4bfc-a345-f28e424d0370",
   "metadata": {},
   "outputs": [],
   "source": [
    "fruits = [\"apple\", \"banana\", \"cherry\", \"orange\"]\n",
    "fruits[2]= [\"mango\"]"
   ]
  },
  {
   "cell_type": "markdown",
   "id": "82398b17-df58-4121-a66d-045a7529e0c3",
   "metadata": {
    "id": "bea983a3"
   },
   "source": [
    "```\n",
    "\n",
    "---\n",
    "\n",
    "### Exercise 8:\n",
    "Add the number `6` to the set `numbers = {1, 2, 3, 4, 5}`.\n",
    "\n",
    "```python\n",
    "# Exercise 8"
   ]
  },
  {
   "cell_type": "code",
   "execution_count": 17,
   "id": "58d14a8a-56d1-41cb-a7d4-4b185fbe5cde",
   "metadata": {},
   "outputs": [],
   "source": [
    "numbers = {1, 2, 3, 4, 5}\n",
    "numbers.add(6)"
   ]
  },
  {
   "cell_type": "code",
   "execution_count": null,
   "id": "1324f561-7046-4428-aff2-6a65b24fb9ef",
   "metadata": {
    "id": "bea983a3"
   },
   "outputs": [],
   "source": [
    "```\n",
    "\n",
    "---\n",
    "\n",
    "### Exercise 9:\n",
    "Remove the key `\"age\"` from the dictionary `person = {\"name\": \"John\", \"age\": 25, \"city\": \"New York\"}`.\n",
    "\n",
    "```python\n",
    "# Exercise 9"
   ]
  },
  {
   "cell_type": "code",
   "execution_count": 20,
   "id": "63dd4475-c180-4003-bee4-13152bb3a960",
   "metadata": {},
   "outputs": [],
   "source": [
    "person = {\"name\": \"John\", \"age\": 25, \"city\": \"New York\"}\n",
    "del person[\"age\"]"
   ]
  },
  {
   "cell_type": "markdown",
   "id": "7ea973b3-72b0-428e-a5bb-cd4905acc9a1",
   "metadata": {
    "id": "bea983a3"
   },
   "source": [
    "```\n",
    "\n",
    "---\n",
    "\n",
    "### Exercise 10:\n",
    "Create a range object starting from 0 to 9.\n",
    "\n",
    "```python\n",
    "# Exercise 10"
   ]
  },
  {
   "cell_type": "code",
   "execution_count": null,
   "id": "db989715-06dd-4873-87e2-b7ee415b27e4",
   "metadata": {},
   "outputs": [],
   "source": [
    "objects=range(0,10)"
   ]
  },
  {
   "cell_type": "markdown",
   "id": "b1329559-c5e0-4ae1-b47c-c611f859e13e",
   "metadata": {
    "id": "bea983a3"
   },
   "source": [
    "```\n",
    "\n",
    "---\n",
    "\n",
    "### Exercise 11:\n",
    "Use a list comprehension to create a list of squares of numbers from 1 to 10.\n",
    "\n",
    "```python\n",
    "# Exercise 11"
   ]
  },
  {
   "cell_type": "code",
   "execution_count": null,
   "id": "d1121940-3eb3-4f4c-a765-f8bfdfac5810",
   "metadata": {},
   "outputs": [],
   "source": [
    "lis=[v**2 for v in range(1,11)]"
   ]
  },
  {
   "cell_type": "markdown",
   "id": "ccb8b9c2-93d2-4a83-afbe-ff92701aadd8",
   "metadata": {
    "id": "bea983a3"
   },
   "source": [
    "```\n",
    "\n",
    "---\n",
    "\n",
    "### Exercise 12:\n",
    "Create a tuple of even numbers between 2 and 10 using a tuple comprehension.\n",
    "\n",
    "```python\n",
    "# Exercise 12"
   ]
  },
  {
   "cell_type": "code",
   "execution_count": 21,
   "id": "8851bd3e-1468-406c-a1cd-e9bdf550afeb",
   "metadata": {},
   "outputs": [],
   "source": [
    "even=tuple(range(2,11,2))"
   ]
  },
  {
   "cell_type": "code",
   "execution_count": null,
   "id": "84be8b5b-3606-465e-a423-36b15feb9bbc",
   "metadata": {
    "id": "bea983a3"
   },
   "outputs": [],
   "source": [
    "```\n",
    "\n",
    "---\n",
    "\n",
    "### Exercise 13:\n",
    "Use a for loop to iterate through the list `fruits = [\"apple\", \"banana\", \"cherry\"]` and print each element.\n",
    "\n",
    "```python\n",
    "# Exercise 13"
   ]
  },
  {
   "cell_type": "code",
   "execution_count": 23,
   "id": "26adccb5-e743-46c6-af92-a2e56ec19ba9",
   "metadata": {},
   "outputs": [],
   "source": [
    "fruits = [\"apple\", \"banana\", \"cherry\"]\n",
    "for i in range(0,len(fruits)):\n",
    "    print(fruits[i])"
   ]
  },
  {
   "cell_type": "markdown",
   "id": "0527e435-0304-4879-924b-e89c76b507dd",
   "metadata": {
    "id": "bea983a3"
   },
   "source": [
    "```\n",
    "\n",
    "---\n",
    "\n",
    "### Exercise 14:\n",
    "Check if the value `3` exists in the set `numbers = {1, 2, 3, 4, 5}`.\n",
    "\n",
    "```python\n",
    "# Exercise 14"
   ]
  },
  {
   "cell_type": "code",
   "execution_count": null,
   "id": "3b6b4c2c-33fd-49e8-9d40-9a7e0138ab31",
   "metadata": {},
   "outputs": [],
   "source": [
    "numbers = {1, 2, 3, 4, 5}\n",
    "3 in numbers"
   ]
  },
  {
   "cell_type": "markdown",
   "id": "16e0191a-eca9-43a4-a2d9-e69efd226cb7",
   "metadata": {
    "id": "bea983a3"
   },
   "source": [
    "```\n",
    "\n",
    "---\n",
    "\n",
    "### Exercise 15:\n",
    "Use the `len()` function to find the length of the tuple `numbers = (10, 20, 30)`.\n",
    "\n",
    "```python\n",
    "# Exercise 15"
   ]
  },
  {
   "cell_type": "code",
   "execution_count": null,
   "id": "48ddf8c0-b21c-4abb-aeab-f86e7a1e5c5b",
   "metadata": {},
   "outputs": [],
   "source": [
    "numbers = (10, 20, 30)\n",
    "len(numbers) "
   ]
  },
  {
   "cell_type": "markdown",
   "id": "59e9b756-279a-4fd9-a991-3171dffe6a32",
   "metadata": {
    "id": "bea983a3"
   },
   "source": [
    "```\n",
    "\n",
    "---\n",
    "\n",
    "### Exercise 16:\n",
    "Add the value `100` at the end of the list `scores = [80, 85, 90, 95]`.\n",
    "\n",
    "```python\n",
    "# Exercise 16"
   ]
  },
  {
   "cell_type": "code",
   "execution_count": null,
   "id": "010358d5-0be1-4292-96f3-3cd2ed8ad5f7",
   "metadata": {},
   "outputs": [],
   "source": [
    "scores = [80, 85, 90, 95]\n",
    "scores.append(100)"
   ]
  },
  {
   "cell_type": "code",
   "execution_count": 27,
   "id": "6c0d71da-824c-4713-b885-a7904010c291",
   "metadata": {},
   "outputs": [],
   "source": [
    "#EXERCise 17\n",
    "#numbers is name liste\n",
    "def sum_function(numbers):\n",
    "    sum_numbers=0\n",
    "    for k in numbers:\n",
    "        sum_numbers+=k\n",
    "        return sum_numbers\n",
    "    "
   ]
  },
  {
   "cell_type": "code",
   "execution_count": null,
   "id": "18ffcc2b-23be-4a77-a3d3-9a9a989f9909",
   "metadata": {
    "id": "bea983a3"
   },
   "outputs": [],
   "source": [
    "```\n",
    "\n",
    "---\n",
    "\n",
    "### Exercise 18:\n",
    "Create a set containing the unique elements of the list `numbers = [1, 2, 2, 3, 4, 4, 5]`.\n",
    "\n",
    "```python\n",
    "# Exercise 18"
   ]
  },
  {
   "cell_type": "code",
   "execution_count": 28,
   "id": "e379f78a-2a3a-4b98-bcf5-f06b3351f607",
   "metadata": {},
   "outputs": [],
   "source": [
    "numbers = [1, 2, 2, 3, 4, 4, 5]\n",
    "set_numbers=set(numbers)"
   ]
  },
  {
   "cell_type": "markdown",
   "id": "186bb1cf-198f-4828-9473-8eb1be79338c",
   "metadata": {
    "id": "bea983a3"
   },
   "source": [
    "```\n",
    "\n",
    "---\n",
    "\n",
    "### Exercise 19:\n",
    "Convert the string `\"hello\"` into a list of characters.\n",
    "\n",
    "```python\n",
    "# Exercise 19"
   ]
  },
  {
   "cell_type": "code",
   "execution_count": 29,
   "id": "6b0acd66-f965-47d8-8185-5a07672e8ba0",
   "metadata": {},
   "outputs": [],
   "source": [
    "list_hello=list(\"hello\")"
   ]
  },
  {
   "cell_type": "markdown",
   "id": "44f6d4a1-6e18-40d0-8ef2-50fbb1a69113",
   "metadata": {
    "id": "bea983a3"
   },
   "source": [
    "```\n",
    "\n",
    "---\n",
    "\n",
    "### Exercise 20:\n",
    "Write a Python function that reverses a tuple `(1, 2, 3, 4)`.\n",
    "\n",
    "```python\n",
    "# Exercise 20"
   ]
  },
  {
   "cell_type": "code",
   "execution_count": 30,
   "id": "29a27e1e-5959-42c8-84ba-fcf014672842",
   "metadata": {},
   "outputs": [],
   "source": [
    "tple=(1, 2, 3, 4)\n",
    "def reverse_function(tple):\n",
    "                return tple[::-1]"
   ]
  },
  {
   "cell_type": "code",
   "execution_count": null,
   "id": "87e134a3-65eb-446d-85f7-27f7d8d77d00",
   "metadata": {
    "id": "bea983a3"
   },
   "outputs": [],
   "source": [
    "```\n",
    "\n",
    "---\n",
    "\n",
    "### Exercise 21:\n",
    "Merge two dictionaries `dict1 = {\"a\": 1, \"b\": 2}` and `dict2 = {\"c\": 3, \"d\": 4}` into a single dictionary.\n",
    "\n",
    "```python\n",
    "# Exercise 21"
   ]
  },
  {
   "cell_type": "code",
   "execution_count": 31,
   "id": "5c2db219-d983-49b5-8d71-3d6278d7fdf4",
   "metadata": {},
   "outputs": [],
   "source": [
    "dict1 = {\"a\": 1, \"b\": 2}\n",
    "dict2 = {\"c\": 3, \"d\": 4}\n",
    "dict3=dict1.update(dict2)"
   ]
  },
  {
   "cell_type": "markdown",
   "id": "d6e850ea-9597-4f96-9dbe-3346af37959e",
   "metadata": {
    "id": "bea983a3"
   },
   "source": [
    "```\n",
    "\n",
    "---\n",
    "\n",
    "### Exercise 22:\n",
    "Create a dictionary where keys are numbers from 1 to 5, and values are their squares.\n",
    "\n",
    "```python\n",
    "# Exercise 22"
   ]
  },
  {
   "cell_type": "code",
   "execution_count": 32,
   "id": "c74012f0-61aa-47e5-934f-d14f10f6bd02",
   "metadata": {},
   "outputs": [],
   "source": [
    "dic={v:v**2 for v in range(1,6)}"
   ]
  },
  {
   "cell_type": "markdown",
   "id": "fd7dd132-5b9b-43ff-8adb-a76b49bed1ee",
   "metadata": {
    "id": "bea983a3"
   },
   "source": [
    "```\n",
    "\n",
    "---\n",
    "\n",
    "### Exercise 23:\n",
    "Write a Python program to iterate through a dictionary and print each key-value pair.\n",
    "\n",
    "```python\n",
    "# Exercise 23"
   ]
  },
  {
   "cell_type": "code",
   "execution_count": 6,
   "id": "7afa014a-792c-4d95-951a-c69348f08041",
   "metadata": {},
   "outputs": [],
   "source": [
    "my_dict={\n",
    "    \"name\":\"Alice\",\n",
    "    \"age\":23,\n",
    "    \"adresse\":\"mbour\"\n",
    "}\n",
    "for k in my_dict.items():\n",
    "print(f\"key:{key},value:{value}\")"
   ]
  },
  {
   "cell_type": "markdown",
   "id": "2924e690-6656-46c3-a240-d839830ce941",
   "metadata": {
    "id": "bea983a3"
   },
   "source": [
    "```\n",
    "\n",
    "---\n",
    "\n",
    "### Exercise 24:\n",
    "Create a list of the first 5 letters of the alphabet using the `chr()` function.\n",
    "\n",
    "```python\n",
    "# Exercise 24"
   ]
  },
  {
   "cell_type": "code",
   "execution_count": 40,
   "id": "8c197242-8942-47a7-bef1-33ce8f950480",
   "metadata": {},
   "outputs": [],
   "source": [
    "first_letters=list(chr(v) for v in range(0,6))"
   ]
  },
  {
   "cell_type": "markdown",
   "id": "c03c79d9-2087-4a8a-9728-0387c6151534",
   "metadata": {
    "id": "bea983a3"
   },
   "source": [
    "```\n",
    "\n",
    "---\n",
    "\n",
    "### Exercise 25:\n",
    "Use the `zip()` function to combine two lists `[1, 2, 3]` and `[\"a\", \"b\", \"c\"]` into a list of tuples.\n",
    "\n",
    "```python\n",
    "# Exercise 25"
   ]
  },
  {
   "cell_type": "code",
   "execution_count": 41,
   "id": "58cf11fb-375b-43e8-bd81-b4210105edc4",
   "metadata": {},
   "outputs": [],
   "source": [
    "list1=[1, 2, 3]\n",
    "list2=[\"a\", \"b\", \"c\"]\n",
    "list3=zip(list1,list2)"
   ]
  },
  {
   "cell_type": "markdown",
   "id": "7e89f639-e221-439c-b8fb-5cb7e5b40569",
   "metadata": {
    "id": "bea983a3"
   },
   "source": [
    "```\n",
    "\n",
    "---\n",
    "\n",
    "### Exercise 26:\n",
    "Find the index of the value `50` in the list `[10, 20, 30, 40, 50]`.\n",
    "\n",
    "```python\n",
    "# Exercise 26"
   ]
  },
  {
   "cell_type": "code",
   "execution_count": 42,
   "id": "7c97d5e4-594d-4a03-bfdb-4853629dd05b",
   "metadata": {},
   "outputs": [
    {
     "data": {
      "text/plain": [
       "4"
      ]
     },
     "execution_count": 42,
     "metadata": {},
     "output_type": "execute_result"
    }
   ],
   "source": [
    "lis=[10, 20, 30, 40, 50]\n",
    "lis.index(50)"
   ]
  },
  {
   "cell_type": "markdown",
   "id": "ecf13ba8-2e08-4a5e-b1a1-81548b8ae934",
   "metadata": {
    "id": "bea983a3"
   },
   "source": [
    "```\n",
    "\n",
    "---\n",
    "\n",
    "### Exercise 27:\n",
    "Sort the list `names = [\"Alice\", \"Bob\", \"Charlie\", \"David\"]` in alphabetical order.\n",
    "\n",
    "```python\n",
    "# Exercise 27"
   ]
  },
  {
   "cell_type": "code",
   "execution_count": 44,
   "id": "e14d78f9-696d-4c5a-a258-b9bc2eb30d37",
   "metadata": {},
   "outputs": [],
   "source": [
    "names = [\"Alice\", \"Bob\", \"Charlie\", \"David\"]\n",
    "names.sort()"
   ]
  },
  {
   "cell_type": "markdown",
   "id": "5eae1792-8786-41c2-9592-ee53e44b8a7c",
   "metadata": {
    "id": "bea983a3"
   },
   "source": [
    "```\n",
    "\n",
    "---\n",
    "\n",
    "### Exercise 28:\n",
    "Write a Python function that takes a list of integers as input and returns the largest number.\n",
    "\n",
    "```python\n",
    "# Exercise 28"
   ]
  },
  {
   "cell_type": "code",
   "execution_count": 47,
   "id": "1e854a41-9f2e-4e9e-b9ff-d0d1b4a73809",
   "metadata": {},
   "outputs": [],
   "source": [
    "def largest_number(numbers) :\n",
    "                 return max(numbers) "
   ]
  },
  {
   "cell_type": "markdown",
   "id": "20c33053-b831-4ce0-b6a0-49a31e65d3c4",
   "metadata": {
    "id": "bea983a3"
   },
   "source": [
    "```\n",
    "\n",
    "---\n",
    "\n",
    "### Exercise 29:\n",
    "Use the `count()` method to count how many times `\"apple\"` appears in the list `fruits = [\"apple\", \"banana\", \"apple\", \"orange\"]`.\n",
    "\n",
    "```python\n",
    "# Exercise 29"
   ]
  },
  {
   "cell_type": "code",
   "execution_count": 48,
   "id": "b499e035-dbc3-4f08-b4d6-cd9db8f5f314",
   "metadata": {},
   "outputs": [
    {
     "data": {
      "text/plain": [
       "2"
      ]
     },
     "execution_count": 48,
     "metadata": {},
     "output_type": "execute_result"
    }
   ],
   "source": [
    "fruits = [\"apple\", \"banana\", \"apple\", \"orange\"]\n",
    "fruits.count(\"apple\")"
   ]
  },
  {
   "cell_type": "markdown",
   "id": "a927a048-bc68-40b6-8873-0bb68d47860c",
   "metadata": {
    "id": "bea983a3"
   },
   "source": [
    "```\n",
    "\n",
    "---\n",
    "\n",
    "### Exercise 30:\n",
    "Create a dictionary `person` where keys are `\"name\"`, `\"age\"`, and `\"city\"`, and values are `\"Alice\"`, `25`, and `\"New York\"` respectively. Then access the value of the `\"city\"` key.\n",
    "\n",
    "```python\n",
    "# Exercise 30"
   ]
  },
  {
   "cell_type": "code",
   "execution_count": 50,
   "id": "93623867-6c4c-4e1b-87e3-9e99ddd7a9b7",
   "metadata": {},
   "outputs": [
    {
     "data": {
      "text/plain": [
       "'New York'"
      ]
     },
     "execution_count": 50,
     "metadata": {},
     "output_type": "execute_result"
    }
   ],
   "source": [
    "person={\"name\":\"Alice\",\"age\":25,\"city\":\"New York\"}\n",
    "person[\"city\"]"
   ]
  },
  {
   "cell_type": "markdown",
   "id": "911d39ed-0b47-4f26-8045-700f4851c7df",
   "metadata": {
    "id": "bea983a3"
   },
   "source": [
    "```\n",
    "\n",
    "---\n",
    "\n",
    "### Exercise 31:\n",
    "Write a Python function that takes a list as input and returns a new list with all duplicates removed.\n",
    "\n",
    "```python\n",
    "# Exercise 31"
   ]
  },
  {
   "cell_type": "code",
   "execution_count": null,
   "id": "5bc8ddf5-92db-44a8-8ee5-389569ad68c5",
   "metadata": {},
   "outputs": [],
   "source": [
    "def remove_duplicates(input_list):\n",
    "    \"\"\"\n",
    "    Removes duplicates from the input list and returns a new list with unique elements.\n",
    "    \"\"\"\n",
    "    return list(set(input_list))"
   ]
  },
  {
   "cell_type": "markdown",
   "id": "1a0a5348-ba31-436b-9001-04fa1294c568",
   "metadata": {
    "id": "bea983a3"
   },
   "source": [
    "```\n",
    "\n",
    "---\n",
    "\n",
    "### Exercise 32:\n",
    "Write a Python function that takes two lists and returns their intersection.\n",
    "\n",
    "```python\n",
    "# Exercise 32"
   ]
  },
  {
   "cell_type": "code",
   "execution_count": null,
   "id": "b218c43e-d2b3-4123-bb55-3107b3c4e09a",
   "metadata": {},
   "outputs": [],
   "source": [
    "def find_intersection(list1, list2):\n",
    "    \"\"\"\n",
    "    Takes two lists and returns their intersection.\n",
    "    \"\"\"\n",
    "    set1 = set(list1)\n",
    "    set2 = set(list2)\n",
    "    return list(set1.intersection(set2))\n"
   ]
  },
  {
   "cell_type": "markdown",
   "id": "fd2d00c6-488a-44ca-9035-e4bfb194bdf5",
   "metadata": {
    "id": "bea983a3"
   },
   "source": [
    "```\n",
    "\n",
    "---\n",
    "\n",
    "### Exercise 33:\n",
    "Create a generator that yields the squares of numbers from 1 to 10.\n",
    "\n",
    "```python\n",
    "# Exercise 33"
   ]
  },
  {
   "cell_type": "code",
   "execution_count": null,
   "id": "c0134011-61db-4bbf-ae53-0751ec105284",
   "metadata": {},
   "outputs": [],
   "source": [
    "def square_generator():\n",
    "    \"\"\"\n",
    "    Yields the squares of numbers from 1 to 10.\n",
    "    \"\"\"\n",
    "    for i in range(1, 11):\n",
    "        yield i * i"
   ]
  },
  {
   "cell_type": "markdown",
   "id": "9d38419c-8d52-4af9-8446-7d383554ebde",
   "metadata": {
    "id": "bea983a3"
   },
   "source": [
    "```\n",
    "\n",
    "---\n",
    "\n",
    "### Exercise 34:\n",
    "Write a Python function that takes a dictionary as input and returns the sum of all its values.\n",
    "\n",
    "```python\n",
    "# Exercise 34"
   ]
  },
  {
   "cell_type": "code",
   "execution_count": null,
   "id": "017ef44d-5c3f-47b5-9b8e-6e3015cdec6c",
   "metadata": {},
   "outputs": [],
   "source": [
    "def sum_dictionary_values(input_dict):\n",
    "    \"\"\"\n",
    "    Takes a dictionary as input and returns the sum of all its values.\n",
    "    \"\"\"\n",
    "    return sum(input_dict.values())\n"
   ]
  },
  {
   "cell_type": "markdown",
   "id": "fa9e016c-b975-45ee-9bef-f35450be346c",
   "metadata": {
    "id": "bea983a3"
   },
   "source": [
    "```\n",
    "\n",
    "---\n",
    "\n",
    "### Exercise 35:\n",
    "Use the `sorted()` function to sort the list `[3, 1, 4, 1, 5, 9]` in ascending order.\n",
    "\n",
    "```python\n",
    "# Exercise 35"
   ]
  },
  {
   "cell_type": "code",
   "execution_count": null,
   "id": "ea010227-7c66-4b05-a6b1-c0d75647b267",
   "metadata": {},
   "outputs": [],
   "source": [
    "my_list = [3, 1, 4, 1, 5, 9]\n",
    "sorted_list = sorted(my_list)\n",
    "print(f\"Sorted list in ascending order: {sorted_list}\")"
   ]
  },
  {
   "cell_type": "markdown",
   "id": "b235722f-018d-4c90-bbf0-3a2c397f7f03",
   "metadata": {
    "id": "bea983a3"
   },
   "source": [
    "```\n",
    "\n",
    "---\n",
    "\n",
    "### Exercise 36:\n",
    "Write a Python function that takes a list of strings as input and returns the longest string.\n",
    "\n",
    "```python\n",
    "# Exercise 36"
   ]
  },
  {
   "cell_type": "code",
   "execution_count": null,
   "id": "c3014d8c-252e-4add-a769-c5b9720cf5cf",
   "metadata": {},
   "outputs": [],
   "source": [
    "def find_longest_string(string_list):\n",
    "    \"\"\"\n",
    "    Takes a list of strings as input and returns the longest string.\n",
    "    \"\"\"\n",
    "    return max(string_list, key=len)\n"
   ]
  },
  {
   "cell_type": "markdown",
   "id": "b32f15d0-bf9f-4e7d-b822-ed1020c7e1a9",
   "metadata": {
    "id": "bea983a3"
   },
   "source": [
    "```\n",
    "\n",
    "---\n",
    "\n",
    "### Exercise 37:\n",
    "Check if all the elements in the list `[1, 2, 3, 4, 5]` are greater than 0 using the `all()` function.\n",
    "\n",
    "```python\n",
    "# Exercise 37"
   ]
  },
  {
   "cell_type": "code",
   "execution_count": null,
   "id": "d07273fb-2bd1-4bb5-b3ae-ff5281a24c4a",
   "metadata": {},
   "outputs": [],
   "source": [
    "my_list = [1, 2, 3, 4, 5]\n",
    "result = all(x > 0 for x in my_list)\n",
    "print(f\"All elements are greater than 0: {result}\")"
   ]
  },
  {
   "cell_type": "markdown",
   "id": "5cd20f05-a2e5-46f0-ae7e-5bc7a3b73e9b",
   "metadata": {
    "id": "bea983a3"
   },
   "source": [
    "```\n",
    "\n",
    "---\n",
    "\n",
    "### Exercise 38:\n",
    "Create a list of tuples where each tuple contains a number and its square for numbers from 1 to 5.\n",
    "\n",
    "```python\n",
    "# Exercise 38"
   ]
  },
  {
   "cell_type": "code",
   "execution_count": null,
   "id": "6aa882a7-5933-41f3-b885-2e2472aa46b9",
   "metadata": {},
   "outputs": [],
   "source": [
    "squares_list=[(i,i*i) for i in range(1,6)]\n",
    "print(f\"list of tuples : {squares_list} \")"
   ]
  },
  {
   "cell_type": "markdown",
   "id": "6992dddb-c35d-48ba-b18e-6a5c9f363deb",
   "metadata": {
    "id": "bea983a3"
   },
   "source": [
    "```\n",
    "\n",
    "---\n",
    "\n",
    "### Exercise 39:\n",
    "Write a Python function that takes a list of tuples and returns a list of the second elements from each tuple.\n",
    "\n",
    "```python\n",
    "# Exercise 39"
   ]
  },
  {
   "cell_type": "code",
   "execution_count": null,
   "id": "b4bc0308-2486-4f79-a373-ab46136f16b4",
   "metadata": {},
   "outputs": [],
   "source": [
    "def get_second_elements(tuple_list):\n",
    "    return [t[1] for t in tuple_list]"
   ]
  },
  {
   "cell_type": "markdown",
   "id": "3ec93d60-4fea-4f9c-8d11-5be5c58a5d2d",
   "metadata": {
    "id": "bea983a3"
   },
   "source": [
    "```\n",
    "\n",
    "---\n",
    "\n",
    "### Exercise 40:\n",
    "Write a Python function that flattens a list of lists into a single list.\n",
    "\n",
    "```python\n",
    "# Exercise 40"
   ]
  },
  {
   "cell_type": "code",
   "execution_count": null,
   "id": "2778670d-9bdc-4ede-b9c8-e19380c1e890",
   "metadata": {},
   "outputs": [],
   "source": [
    "def flatten_list(list_of_lists):\n",
    "    return [item for sublist in list_of_lists for item in sublist]"
   ]
  },
  {
   "cell_type": "markdown",
   "id": "ead1a42c-8362-4dd4-837e-d494bbb4657f",
   "metadata": {
    "id": "bea983a3"
   },
   "source": [
    "```\n",
    "\n",
    "---\n",
    "\n",
    "### Exercise 41:\n",
    "Use the `enumerate()` function to iterate through the list `[\"apple\", \"banana\", \"cherry\"]` and print the index and value.\n",
    "\n",
    "```python\n",
    "# Exercise 41"
   ]
  },
  {
   "cell_type": "code",
   "execution_count": null,
   "id": "0e989dfc-1fe6-46d3-9303-7e5f33d3a90f",
   "metadata": {},
   "outputs": [],
   "source": [
    "def print_enumerated(fruit_list):\n",
    "    for index, value in enumerate(fruit_list):\n",
    "        print(f\"Index: {index}, Value: {value}\")"
   ]
  },
  {
   "cell_type": "markdown",
   "id": "528c0e2f-e4e7-4791-be5a-a8c79b496c24",
   "metadata": {
    "id": "bea983a3"
   },
   "source": [
    "```\n",
    "\n",
    "---\n",
    "\n",
    "### Exercise 42:\n",
    "Write a Python program that checks if a tuple is empty.\n",
    "\n",
    "```python\n",
    "# Exercise 42"
   ]
  },
  {
   "cell_type": "code",
   "execution_count": null,
   "id": "98488d5a-6f5b-462e-9287-6e13277a53c3",
   "metadata": {},
   "outputs": [],
   "source": [
    "def is_tuple_empty(t):\n",
    "    return len(t) == 0"
   ]
  },
  {
   "cell_type": "markdown",
   "id": "97b1230b-b4cc-4545-b757-ebd2be198fbb",
   "metadata": {
    "id": "bea983a3"
   },
   "source": [
    "```\n",
    "\n",
    "---\n",
    "\n",
    "### Exercise 43:\n",
    "Create a list of even numbers between 1 and 20 using the `range()` function.\n",
    "\n",
    "```python\n",
    "# Exercise 43"
   ]
  },
  {
   "cell_type": "code",
   "execution_count": null,
   "id": "0bc8fba6-d9e8-4f00-a113-d38916d872ca",
   "metadata": {},
   "outputs": [],
   "source": [
    "even_numbers = list(range(2, 21, 2))"
   ]
  },
  {
   "cell_type": "markdown",
   "id": "d5327db4-da96-4fd3-92cb-1737e0b87801",
   "metadata": {
    "id": "bea983a3"
   },
   "source": [
    "```\n",
    "\n",
    "---\n",
    "\n",
    "### Exercise 44:\n",
    "Write a Python function that takes a list of numbers as input and returns the list in reverse order.\n",
    "\n",
    "```python\n",
    "# Exercise 44"
   ]
  },
  {
   "cell_type": "code",
   "execution_count": null,
   "id": "bb81680c-e0da-4d2d-a78f-15db84a4bc07",
   "metadata": {},
   "outputs": [],
   "source": [
    "def reverse_list(numbers):\n",
    "    return numbers[::-1]"
   ]
  },
  {
   "cell_type": "markdown",
   "id": "dac14fdc-e210-4fcc-a1be-fe513f2d77e4",
   "metadata": {
    "id": "bea983a3"
   },
   "source": [
    "```\n",
    "\n",
    "---\n",
    "\n",
    "### Exercise 45:\n",
    "Create a dictionary comprehension that maps numbers from 1 to 5 to their cubes.\n",
    "\n",
    "```python\n",
    "# Exercise 45"
   ]
  },
  {
   "cell_type": "code",
   "execution_count": null,
   "id": "6f4000aa-cacd-43da-b065-1d36614445a3",
   "metadata": {},
   "outputs": [],
   "source": [
    "cubes = {x: x**3 for x in range(1, 6)}"
   ]
  },
  {
   "cell_type": "markdown",
   "id": "9c0b9422-92af-4393-9a0b-383b73ba0442",
   "metadata": {
    "id": "bea983a3"
   },
   "source": [
    "```\n",
    "\n",
    "---\n",
    "\n",
    "### Exercise 46:\n",
    "Write a Python program that creates a new list containing only the unique elements of the list `[1, 2, 2, 3, 4, 4, 5]`.\n",
    "\n",
    "```python\n",
    "# Exercise 46"
   ]
  },
  {
   "cell_type": "code",
   "execution_count": null,
   "id": "7247dd5e-d267-448d-a7b6-6ebddcef864c",
   "metadata": {},
   "outputs": [],
   "source": [
    "riginal_list = [1, 2, 2, 3, 4, 4, 5]\n",
    "unique_list = list(set(original_list))\n",
    "unique_list.sort()"
   ]
  },
  {
   "cell_type": "markdown",
   "id": "96d52530-b28d-4f9e-bd69-21c8d30475af",
   "metadata": {
    "id": "bea983a3"
   },
   "source": [
    "```\n",
    "\n",
    "---\n",
    "\n",
    "### Exercise 47:\n",
    "Write a Python function that takes a list of dictionaries and returns a list of the values for a given key.\n",
    "\n",
    "```python\n",
    "# Exercise 47"
   ]
  },
  {
   "cell_type": "code",
   "execution_count": null,
   "id": "6d6fee84-1582-4cf3-b6a6-f9d2ec67c162",
   "metadata": {},
   "outputs": [],
   "source": [
    "def extract_values(dict_list, key):\n",
    "    return [d[key] for d in dict_list if key in d]"
   ]
  },
  {
   "cell_type": "markdown",
   "id": "7be2bb1f-b21c-4a76-84da-ef4d0a9419ac",
   "metadata": {
    "id": "bea983a3"
   },
   "source": [
    "```\n",
    "\n",
    "---\n",
    "\n",
    "### Exercise 48:\n",
    "Write a Python function that uses a generator to yield the Fibonacci sequence up to `n` terms.\n",
    "\n",
    "```python\n",
    "# Exercise 48"
   ]
  },
  {
   "cell_type": "code",
   "execution_count": null,
   "id": "a9fff5a9-544d-4d29-9986-88db7e5f890a",
   "metadata": {},
   "outputs": [],
   "source": [
    "def fibonacci_generator(n):\n",
    "    a, b = 0, 1\n",
    "    for _ in range(n):\n",
    "        yield a\n",
    "        a, b = b, a + b"
   ]
  },
  {
   "cell_type": "markdown",
   "id": "e5b9a501-6777-4bc7-bc48-46f8d3690a2e",
   "metadata": {
    "id": "bea983a3"
   },
   "source": [
    "```\n",
    "\n",
    "---\n",
    "\n",
    "### Exercise 49:\n",
    "Write a Python function that takes a string and returns a list of all unique characters in the string.\n",
    "\n",
    "```python\n",
    "# Exercise 49"
   ]
  },
  {
   "cell_type": "code",
   "execution_count": null,
   "id": "9248cd52-80c1-4690-89e1-9ab6adcb8bf8",
   "metadata": {},
   "outputs": [],
   "source": [
    "def unique_characters(input_string):\n",
    "    return list(set(input_string))"
   ]
  },
  {
   "cell_type": "markdown",
   "id": "a7d22674-4a62-43eb-b384-d2dc0fe8e9d6",
   "metadata": {
    "id": "bea983a3"
   },
   "source": [
    "```\n",
    "\n",
    "---\n",
    "\n",
    "### Exercise 50:\n",
    "Write a Python function that merges two sorted lists into a single sorted list.\n",
    "\n",
    "```python\n",
    "# Exercise 50"
   ]
  },
  {
   "cell_type": "code",
   "execution_count": null,
   "id": "66a96534-0d1d-44d9-bbb0-d1f40c3f7c92",
   "metadata": {},
   "outputs": [],
   "source": [
    "def merge_sorted_lists(list1, list2):\n",
    "    \"\"\"\n",
    "    Merges two sorted lists into a single sorted list.\n",
    "    \"\"\"\n",
    "    merged_list = []\n",
    "    i, j = 0, 0\n",
    "    while i < len(list1) and j < len(list2):\n",
    "        if list1[i] < list2[j]:\n",
    "            merged_list.append(list1[i])\n",
    "            i += 1\n",
    "        else:\n",
    "            merged_list.append(list2[j])\n",
    "            j += 1\n",
    "    while i < len(list1):\n",
    "        merged_list.append(list1[i])\n",
    "        i += 1\n",
    "    while j < len(list2):\n",
    "        merged_list.append(list2[j])\n",
    "        j += 1\n",
    "    return merged_list\n"
   ]
  },
  {
   "cell_type": "markdown",
   "id": "968db1a5-8959-4949-857a-5e6e81056a76",
   "metadata": {
    "id": "bea983a3"
   },
   "source": [
    "```\n",
    "\n",
    "---\n",
    "\n",
    "### Exercise 51:\n",
    "Use the\n",
    "\n",
    " `filter()` function to filter out odd numbers from the list `[1, 2, 3, 4, 5, 6]`.\n",
    "\n",
    "```python\n",
    "# Exercise 51"
   ]
  },
  {
   "cell_type": "code",
   "execution_count": null,
   "id": "87de3cc6-c4eb-4709-bb42-b18e937d70aa",
   "metadata": {},
   "outputs": [],
   "source": [
    "numbers = [1, 2, 3, 4, 5, 6]\n",
    "odd_numbers = list(filter(lambda x: x % 2 != 0, numbers))\n",
    "print(odd_numbers)\n"
   ]
  },
  {
   "cell_type": "markdown",
   "id": "3bbf914c-85a5-49f8-824a-836c3bcd3e31",
   "metadata": {
    "id": "bea983a3"
   },
   "source": [
    "```\n",
    "\n",
    "---\n",
    "\n",
    "### Exercise 52:\n",
    "Write a Python program that converts a list of tuples `[(1, 2), (3, 4), (5, 6)]` into a dictionary.\n",
    "\n",
    "```python\n",
    "# Exercise 52"
   ]
  },
  {
   "cell_type": "code",
   "execution_count": null,
   "id": "dcf8b3bb-e586-4078-98b3-25ae586bdc57",
   "metadata": {},
   "outputs": [],
   "source": [
    "list_of_tuples = [(1, 2), (3, 4), (5, 6)]\n",
    "result_dict = dict(list_of_tuples)\n",
    "print(\"Converted dictionary:\", result_dict)\n"
   ]
  },
  {
   "cell_type": "markdown",
   "id": "97cc6bb9-d959-409c-976a-5a073f9b8c59",
   "metadata": {
    "id": "bea983a3"
   },
   "source": [
    "```\n",
    "\n",
    "---\n",
    "\n",
    "### Exercise 53:\n",
    "Write a Python function that takes two sets and returns their symmetric difference.\n",
    "\n",
    "```python\n",
    "# Exercise 53"
   ]
  },
  {
   "cell_type": "code",
   "execution_count": 1,
   "id": "56930594-1187-48e7-baac-dae32e92e05b",
   "metadata": {},
   "outputs": [],
   "source": [
    "def symmetric_difference(set1, set2):\n",
    "    return set1.symmetric_difference(set2)\n"
   ]
  },
  {
   "cell_type": "markdown",
   "id": "64a492cc-c76f-43e4-b419-84c5a287c794",
   "metadata": {
    "id": "bea983a3"
   },
   "source": [
    "```\n",
    "\n",
    "---\n",
    "\n",
    "### Exercise 54:\n",
    "Write a Python program that finds the common elements in three lists `list1`, `list2`, and `list3`.\n",
    "\n",
    "```python\n",
    "# Exercise 54"
   ]
  },
  {
   "cell_type": "code",
   "execution_count": null,
   "id": "1c8b572d-390f-41e1-970c-c1f39afb3df9",
   "metadata": {},
   "outputs": [],
   "source": [
    "# Define the three lists\n",
    "list1 = [1, 2, 3, 4]\n",
    "list2 = [2, 3, 5, 6]\n",
    "list3 = [1, 2, 3, 7]\n",
    "common_elements = set(list1) & set(list2) & set(list3)\n",
    "common_elements = list(common_elements)\n",
    "print(\"Common elements:\", common_elements)\n"
   ]
  },
  {
   "cell_type": "markdown",
   "id": "9b114796-5438-4759-9b44-59e6b934ba35",
   "metadata": {
    "id": "bea983a3"
   },
   "source": [
    "```\n",
    "\n",
    "---\n",
    "\n",
    "### Exercise 55:\n",
    "Write a Python function that returns the factorial of a number using recursion.\n",
    "\n",
    "```python\n",
    "# Exercise 55"
   ]
  },
  {
   "cell_type": "code",
   "execution_count": 2,
   "id": "a22cf9bd-d776-4dce-8b99-d3d4d00e2d2b",
   "metadata": {},
   "outputs": [],
   "source": [
    "def factorial(n):\n",
    "    if n == 0 or n == 1:\n",
    "        return 1\n",
    "    else:\n",
    "        return n * factorial(n - 1)"
   ]
  },
  {
   "cell_type": "markdown",
   "id": "52224ca2-2e74-4bd8-a96d-9599468d22d9",
   "metadata": {
    "id": "bea983a3"
   },
   "source": [
    "```\n",
    "\n",
    "---\n",
    "\n",
    "### Exercise 56:\n",
    "Write a Python program that removes all empty strings from the list `[\"apple\", \"\", \"banana\", \"\", \"cherry\"]`.\n",
    "\n",
    "```python\n",
    "# Exercise 56"
   ]
  },
  {
   "cell_type": "code",
   "execution_count": 4,
   "id": "b6377e52-d680-45b6-8b51-4ddf907663c3",
   "metadata": {},
   "outputs": [],
   "source": [
    "fruits = [\"apple\", \"\", \"banana\", \"\", \"cherry\"]\n",
    "filtered_fruits = [fruit for fruit in fruits if fruit]\n",
    "print(filtered_fruits)\n"
   ]
  },
  {
   "cell_type": "markdown",
   "id": "4be423bb-eb26-4b72-90b8-7a239f1f5020",
   "metadata": {
    "id": "bea983a3"
   },
   "source": [
    "```\n",
    "\n",
    "---\n",
    "\n",
    "### Exercise 57:\n",
    "Write a Python function that takes a dictionary and returns a new dictionary with the keys and values swapped.\n",
    "\n",
    "```python\n",
    "# Exercise 57"
   ]
  },
  {
   "cell_type": "code",
   "execution_count": null,
   "id": "e9d33f60-1cf1-42d1-91db-25c8f31364d5",
   "metadata": {},
   "outputs": [],
   "source": [
    "def swap_keys_values(input_dict):\n",
    "    \n",
    "    return {value: key for key, value in input_dict.items()}\n"
   ]
  },
  {
   "cell_type": "markdown",
   "id": "e47497c0-f940-4e99-aebf-8378319696ca",
   "metadata": {
    "id": "bea983a3"
   },
   "source": [
    "```\n",
    "\n",
    "---\n",
    "\n",
    "### Exercise 58:\n",
    "Write a Python function that takes a list of integers and returns a new list with only the even numbers.\n",
    "\n",
    "```python\n",
    "# Exercise 58"
   ]
  },
  {
   "cell_type": "code",
   "execution_count": null,
   "id": "bdc764d4-5491-42ad-b50c-21568ffc8f07",
   "metadata": {},
   "outputs": [],
   "source": [
    "def get_even_numbers(numbers):\n",
    "    return [num for num in numbers if num % 2 == 0]\n"
   ]
  },
  {
   "cell_type": "markdown",
   "id": "b84dfbe5-a3da-4621-b17c-3c2d9b51cb90",
   "metadata": {
    "id": "bea983a3"
   },
   "source": [
    "```\n",
    "\n",
    "---\n",
    "\n",
    "### Exercise 59:\n",
    "Write a Python function that takes a list of tuples and returns a list of the first elements of each tuple.\n",
    "\n",
    "```python\n",
    "# Exercise 59"
   ]
  },
  {
   "cell_type": "code",
   "execution_count": null,
   "id": "9b245a1b-e41a-44ad-a551-d25b741ce951",
   "metadata": {},
   "outputs": [],
   "source": [
    "def get_first_elements(tuple_list):\n",
    "    return [t[0] for t in tuple_list]\n"
   ]
  },
  {
   "cell_type": "markdown",
   "id": "1e88a236-3be8-4918-94c8-06241ad5abe4",
   "metadata": {
    "id": "bea983a3"
   },
   "source": [
    "```\n",
    "\n",
    "---\n",
    "\n",
    "### Exercise 60:\n",
    "Write a Python program that removes duplicates from a list without changing the order of elements.\n",
    "\n",
    "```python\n",
    "# Exercise 60"
   ]
  },
  {
   "cell_type": "code",
   "execution_count": null,
   "id": "90f05253-7e5d-492a-87af-9a095aebf0b5",
   "metadata": {},
   "outputs": [],
   "source": [
    "def remove_duplicates(input_list):\n",
    "    seen = set()\n",
    "    result = []\n",
    "    for item in input_list:\n",
    "        if item not in seen:\n",
    "            result.append(item)\n",
    "            seen.add(item)\n",
    "    return result\n"
   ]
  },
  {
   "cell_type": "markdown",
   "id": "3b71162c-5857-4fd3-8443-1e1cf24b85ca",
   "metadata": {
    "id": "bea983a3"
   },
   "source": [
    "```\n",
    "\n",
    "---\n",
    "\n",
    "### Exercise 61:\n",
    "Use the `map()` function to convert a list of strings to a list of their lengths.\n",
    "\n",
    "```python\n",
    "# Exercise 61"
   ]
  },
  {
   "cell_type": "code",
   "execution_count": null,
   "id": "98a95145-94ed-4166-986c-24540090daa7",
   "metadata": {},
   "outputs": [],
   "source": [
    "def string_lengths(strings):\n",
    "    return list(map(len, strings))"
   ]
  },
  {
   "cell_type": "markdown",
   "id": "ab25a26a-835d-4b8f-b7e4-c7305cd17819",
   "metadata": {
    "id": "bea983a3"
   },
   "source": [
    "```\n",
    "\n",
    "---\n",
    "\n",
    "### Exercise 62:\n",
    "Write a Python program that calculates the average of a list of numbers.\n",
    "\n",
    "```python\n",
    "# Exercise 62"
   ]
  },
  {
   "cell_type": "code",
   "execution_count": null,
   "id": "7e892511-8ed0-4c7d-9a92-1fa3846c4138",
   "metadata": {},
   "outputs": [],
   "source": [
    "def calculate_average(numbers):\n",
    "    if not numbers:  \n",
    "        return 0\n",
    "    return sum(numbers) / len(numbers)\n"
   ]
  },
  {
   "cell_type": "markdown",
   "id": "30bcd0b0-3c3a-4f8e-a82a-4de614b4dd43",
   "metadata": {
    "id": "bea983a3"
   },
   "source": [
    "```\n",
    "\n",
    "---\n",
    "\n",
    "### Exercise 63:\n",
    "Write a Python function that generates a list of the first `n` Fibonacci numbers.\n",
    "\n",
    "```python\n",
    "# Exercise 63"
   ]
  },
  {
   "cell_type": "code",
   "execution_count": 5,
   "id": "555c1a03-0469-4312-accf-8de9aba90989",
   "metadata": {},
   "outputs": [],
   "source": [
    "def fibonacci(n):\n",
    "    if n <= 0:\n",
    "        return []\n",
    "    elif n == 1:\n",
    "        return [0]\n",
    "    fib_list = [0, 1]\n",
    "    for i in range(2, n):\n",
    "        fib_list.append(fib_list[i-1] + fib_list[i-2])\n",
    "    return fib_list\n"
   ]
  },
  {
   "cell_type": "markdown",
   "id": "65e437b1-4c16-4200-8b48-e8d6e7e68e48",
   "metadata": {
    "id": "bea983a3"
   },
   "source": [
    "```\n",
    "\n",
    "---\n",
    "\n",
    "### Exercise 64:\n",
    "Write a Python program that counts how many times each element appears in the list `[\"apple\", \"banana\", \"apple\", \"cherry\"]`.\n",
    "\n",
    "```python\n",
    "# Exercise 64"
   ]
  },
  {
   "cell_type": "code",
   "execution_count": 6,
   "id": "c0a23b33-c2d5-4cae-90c3-d8ba00688eed",
   "metadata": {},
   "outputs": [
    {
     "name": "stdout",
     "output_type": "stream",
     "text": [
      "{'apple': 2, 'banana': 1, 'cherry': 1}\n"
     ]
    }
   ],
   "source": [
    "def count_elements(lst):\n",
    "    count_dict = {}\n",
    "    for item in lst:\n",
    "        count_dict[item] = count_dict.get(item, 0) + 1\n",
    "    return count_dict\n",
    "fruits = [\"apple\", \"banana\", \"apple\", \"cherry\"]\n",
    "print(count_elements(fruits))"
   ]
  },
  {
   "cell_type": "markdown",
   "id": "162b14ea-2f1a-457c-90b5-3aac90e1d2a8",
   "metadata": {
    "id": "bea983a3"
   },
   "source": [
    "```\n",
    "\n",
    "---\n",
    "\n",
    "### Exercise 65:\n",
    "Write a Python program that removes all occurrences of a specific value from a list.\n",
    "\n",
    "```python\n",
    "# Exercise 65"
   ]
  },
  {
   "cell_type": "code",
   "execution_count": null,
   "id": "55184669-a293-483b-8281-961549181f8a",
   "metadata": {},
   "outputs": [],
   "source": [
    "def remove_all_occurrences(lst, value):\n",
    "    return [item for item in lst if item != value]\n"
   ]
  },
  {
   "cell_type": "markdown",
   "id": "b78d042e-2194-4da7-8e47-d02939cf39d1",
   "metadata": {
    "id": "bea983a3"
   },
   "source": [
    "```\n",
    "\n",
    "---\n",
    "\n",
    "### Exercise 66:\n",
    "Write a Python function that takes a list of strings and returns a list of the strings that start with a vowel.\n",
    "\n",
    "```python\n",
    "# Exercise 66"
   ]
  },
  {
   "cell_type": "code",
   "execution_count": null,
   "id": "19ef54a5-593b-4532-8c51-d24d82379716",
   "metadata": {},
   "outputs": [],
   "source": [
    "def filter_vowel_strings(strings):\n",
    "    vowels = {'a', 'e', 'i', 'o', 'u', 'A', 'E', 'I', 'O', 'U'}\n",
    "    return [s for s in strings if s and s[0] in vowels]"
   ]
  },
  {
   "cell_type": "markdown",
   "id": "75868ee0-0601-49ee-b991-05fe003ddadb",
   "metadata": {
    "id": "bea983a3"
   },
   "source": [
    "```\n",
    "\n",
    "---\n",
    "\n",
    "### Exercise 67:\n",
    "Write a Python program that finds the intersection of two sets `set1` and `set2`.\n",
    "\n",
    "```python\n",
    "# Exercise 67"
   ]
  },
  {
   "cell_type": "code",
   "execution_count": null,
   "id": "9fe20399-c2dd-4c65-a157-72531521eef9",
   "metadata": {},
   "outputs": [],
   "source": [
    "inter_s1_s2 = set1.intersection(set2)\n"
   ]
  },
  {
   "cell_type": "markdown",
   "id": "e2133646-c42b-4633-8fa6-4e9b04b4918a",
   "metadata": {
    "id": "bea983a3"
   },
   "source": [
    "```\n",
    "\n",
    "---\n",
    "\n",
    "### Exercise 68:\n",
    "Write a Python function that flattens a nested list.\n",
    "\n",
    "```python\n",
    "# Exercise 68"
   ]
  },
  {
   "cell_type": "code",
   "execution_count": null,
   "id": "06c20b13-2009-4556-b5f2-59adca789806",
   "metadata": {},
   "outputs": [],
   "source": [
    "def flatten_list(nested_list):\n",
    "    flat_list = []\n",
    "    for item in nested_list:\n",
    "        if isinstance(item, list):\n",
    "            flat_list.extend(flatten_list(item))  # Recursively flatten nested lists\n",
    "        else:\n",
    "            flat_list.append(item)\n",
    "    return flat_list\n"
   ]
  },
  {
   "cell_type": "markdown",
   "id": "b7cad973-8e5e-4c33-8239-af388387702b",
   "metadata": {
    "id": "bea983a3"
   },
   "source": [
    "```\n",
    "\n",
    "---\n",
    "\n",
    "### Exercise 69:\n",
    "Write a Python program that checks if all the elements in a list are unique.\n",
    "\n",
    "```python\n",
    "# Exercise 69"
   ]
  },
  {
   "cell_type": "code",
   "execution_count": null,
   "id": "41499a74-e0cc-4bee-a681-e8c83bd8a41d",
   "metadata": {},
   "outputs": [],
   "source": [
    "def are_elements_unique(lst):\n",
    "    return len(lst) == len(set(lst))\n"
   ]
  },
  {
   "cell_type": "markdown",
   "id": "f2ef8412-dfb0-4ad2-8613-746534855cc9",
   "metadata": {
    "id": "bea983a3"
   },
   "source": [
    "```\n",
    "\n",
    "---\n",
    "\n",
    "### Exercise 70:\n",
    "Use the `reduce()` function from the `functools` module to multiply all elements in a list.\n",
    "\n",
    "```python\n",
    "# Exercise 70"
   ]
  },
  {
   "cell_type": "code",
   "execution_count": 8,
   "id": "4be47c0d-55e9-44a1-b1c6-2a9bb69acd13",
   "metadata": {},
   "outputs": [],
   "source": [
    "from functools import reduce\n",
    "result = reduce(lambda x, y: x * y, numbers)"
   ]
  },
  {
   "cell_type": "markdown",
   "id": "5bd9c217-485c-421a-9c4b-75963e93aa15",
   "metadata": {
    "id": "bea983a3"
   },
   "source": [
    "```\n",
    "\n",
    "---\n",
    "\n",
    "### Exercise 71:\n",
    "Write a Python function that takes a list of strings and returns a dictionary where keys are strings and values are their lengths.\n",
    "\n",
    "```python\n",
    "# Exercise 71"
   ]
  },
  {
   "cell_type": "code",
   "execution_count": null,
   "id": "a08b6ab0-e7e4-4889-bc15-d8898c62eae5",
   "metadata": {},
   "outputs": [],
   "source": [
    "def strings_to_length_dict(strings):\n",
    "    return {string: len(string) for string in strings}"
   ]
  },
  {
   "cell_type": "markdown",
   "id": "1fe12257-ae3f-4bf5-a9c0-2c892580fec6",
   "metadata": {
    "id": "bea983a3"
   },
   "source": [
    "```\n",
    "\n",
    "---\n",
    "\n",
    "### Exercise 72:\n",
    "Write a Python program that counts the number of vowels in a string.\n",
    "\n",
    "```python\n",
    "# Exercise 72"
   ]
  },
  {
   "cell_type": "code",
   "execution_count": 9,
   "id": "f9b58ec5-080c-4b32-94bb-9167e5021cf8",
   "metadata": {},
   "outputs": [],
   "source": [
    "def count_vowels(input_string):\n",
    "    vowels = \"cvaddjEDbjkjsb\"\n",
    "    count = 0\n",
    "    for char in input_string:\n",
    "        if char in vowels:\n",
    "            count += 1\n",
    "    return count"
   ]
  },
  {
   "cell_type": "markdown",
   "id": "cac80dd1-7301-4565-8caf-0bf6df6deb59",
   "metadata": {
    "id": "bea983a3"
   },
   "source": [
    "```\n",
    "\n",
    "---\n",
    "\n",
    "### Exercise 73:\n",
    "Create a list of tuples where each tuple contains a number from 1 to 5 and its factorial.\n",
    "\n",
    "```python\n",
    "# Exercise 73"
   ]
  },
  {
   "cell_type": "code",
   "execution_count": 21,
   "id": "6e5285f4-1571-4e3c-87fa-4a4b814841c4",
   "metadata": {},
   "outputs": [],
   "source": [
    "def factorial(n):\n",
    "    if n == 0:\n",
    "           return 1\n",
    "    return n * factorial(n - 1) \n",
    "factorial_tuples =[( n, factorial(n) for n in range(1, 6)]"
   ]
  },
  {
   "cell_type": "markdown",
   "id": "f84ad28b-c89f-47e9-ab13-34de232f1995",
   "metadata": {
    "id": "bea983a3"
   },
   "source": [
    "```\n",
    "\n",
    "---\n",
    "\n",
    "### Exercise 74:\n",
    "Write a Python program that converts a list of dictionaries into a single dictionary by merging them.\n",
    "\n",
    "```python\n",
    "# Exercise 74"
   ]
  },
  {
   "cell_type": "code",
   "execution_count": null,
   "id": "b00eb386-4f61-4bd3-910c-931e4b61e3d3",
   "metadata": {},
   "outputs": [],
   "source": [
    "from functools import reduce\n",
    "import operator\n",
    "list_of_dicts = [{'a': 1, 'b': 2}, {'b': 3, 'c': 4}, {'d': 5}]\n",
    "merged_dict = {}\n",
    "for d in list_of_dicts:\n",
    "    merged_dict |= d  \n",
    "print(\"Merged Dictionary :\", merged_dict)\n"
   ]
  },
  {
   "cell_type": "markdown",
   "id": "b90bdf9d-e1c1-4b83-b32d-c5df7f76a56f",
   "metadata": {
    "id": "bea983a3"
   },
   "source": [
    "```\n",
    "\n",
    "---\n",
    "\n",
    "### Exercise 75:\n",
    "Write a Python function that checks if a set is a subset of another set.\n",
    "\n",
    "```python\n",
    "# Exercise 75"
   ]
  },
  {
   "cell_type": "code",
   "execution_count": null,
   "id": "cc6977b4-c87d-4d3a-b8d1-287ea446f6e8",
   "metadata": {},
   "outputs": [],
   "source": [
    "def is_subset(set_a, set_b):\n",
    "    return set_a.issubset(set_b)"
   ]
  },
  {
   "cell_type": "markdown",
   "id": "7d4e837d-9d35-407e-9759-57eba2f506d4",
   "metadata": {
    "id": "bea983a3"
   },
   "source": [
    "```\n",
    "\n",
    "---\n",
    "\n",
    "### Exercise 76:\n",
    "Write a Python program that sorts a list of tuples based on the second element in each tuple.\n",
    "\n",
    "```python\n",
    "# Exercise 76"
   ]
  },
  {
   "cell_type": "code",
   "execution_count": 23,
   "id": "312e522d-2b80-441d-9d26-31c920ea0c11",
   "metadata": {},
   "outputs": [
    {
     "name": "stdout",
     "output_type": "stream",
     "text": [
      "Sorted list: [(4, 3), (3, 5), (2, 8)]\n"
     ]
    }
   ],
   "source": [
    "data=[(2,8),(3,5),(4,3)]\n",
    "sorted_data = sorted(data, key=lambda x: x[1])\n",
    "print(\"Sorted list:\", sorted_data)\n"
   ]
  },
  {
   "cell_type": "markdown",
   "id": "ab74cda3-7067-4b1b-8777-5547f43ef907",
   "metadata": {
    "id": "bea983a3"
   },
   "source": [
    "```\n",
    "\n",
    "---\n",
    "\n",
    "### Exercise 77:\n",
    "Write a Python function that takes a list of integers and returns a new list with only the positive integers.\n",
    "\n",
    "```python\n",
    "# Exercise 77"
   ]
  },
  {
   "cell_type": "code",
   "execution_count": null,
   "id": "1cf7a970-d330-4a01-811e-9ede62340013",
   "metadata": {},
   "outputs": [],
   "source": [
    "def filter_positive_integers(numbers):\n",
    "    return [num for num in numbers if num > 0]"
   ]
  },
  {
   "cell_type": "markdown",
   "id": "68ccafc0-90ce-4f13-b759-a473d009172e",
   "metadata": {
    "id": "bea983a3"
   },
   "source": [
    "```\n",
    "\n",
    "---\n",
    "\n",
    "### Exercise 78:\n",
    "Write a Python function that takes two sets and returns their union.\n",
    "\n",
    "```python\n",
    "# Exercise 78"
   ]
  },
  {
   "cell_type": "code",
   "execution_count": null,
   "id": "9227c5fd-2336-442d-a8b8-bc25ead619c8",
   "metadata": {},
   "outputs": [],
   "source": [
    "def union_of_sets(set1, set2):\n",
    "    return set1.union(set2)"
   ]
  },
  {
   "cell_type": "markdown",
   "id": "f18488f3-7b0e-4ddd-9268-628abda12a12",
   "metadata": {
    "id": "bea983a3"
   },
   "source": [
    "```\n",
    "\n",
    "---\n",
    "\n",
    "### Exercise 79:\n",
    "Write a Python function that takes a list of numbers and returns the product of all the numbers.\n",
    "\n",
    "```python\n",
    "# Exercise 79"
   ]
  },
  {
   "cell_type": "code",
   "execution_count": null,
   "id": "df181a43-fd96-494e-b23b-099bd5ce8669",
   "metadata": {},
   "outputs": [],
   "source": [
    "from functools import reduce\n",
    "\n",
    "def multiply_numbers(numbers):\n",
    "    if not numbers: \n",
    "        return 1\n",
    "    return reduce(lambda x, y: x * y, numbers)"
   ]
  },
  {
   "cell_type": "markdown",
   "id": "c5fc2c9c-096b-4d33-98b9-c7d1809f24f1",
   "metadata": {
    "id": "bea983a3"
   },
   "source": [
    "```\n",
    "\n",
    "---\n",
    "\n",
    "### Exercise 80:\n",
    "Write a Python program that converts a list of characters into a string.\n",
    "\n",
    "```python\n",
    "# Exercise 80"
   ]
  },
  {
   "cell_type": "code",
   "execution_count": 24,
   "id": "bbe11294-8a85-41d9-8701-06a4b7f56248",
   "metadata": {},
   "outputs": [
    {
     "name": "stdout",
     "output_type": "stream",
     "text": [
      "The resulting string is: rahmti lae\n"
     ]
    }
   ],
   "source": [
    "chr_lst = ['r', 'a', 'h', 'm', 't', 'i ', 'l', 'a', 'e']\n",
    "rslt_str = ''.join(chr_lst)\n",
    "print(\"The resulting string is:\", rslt_str)"
   ]
  },
  {
   "cell_type": "markdown",
   "id": "08915861-0f15-4e17-aca4-5c4fb84bb587",
   "metadata": {
    "id": "bea983a3"
   },
   "source": [
    "```\n",
    "\n",
    "---\n",
    "\n",
    "### Exercise 81:\n",
    "Write a Python program that finds the second largest number in a list of integers.\n",
    "\n",
    "```python\n",
    "# Exercise 81"
   ]
  },
  {
   "cell_type": "code",
   "execution_count": null,
   "id": "4f127cc7-374c-42f5-a71a-eced101f69a1",
   "metadata": {},
   "outputs": [],
   "source": [
    "def find_second_largest(numbers):\n",
    "    if len(numbers) < 2:\n",
    "        return \"List must contain at least two distinct numbers.\"\n",
    "    unique_numbers = list(set(numbers))\n",
    "     if len(unique_numbers) < 2:\n",
    "        return \"List must contain at least two distinct numbers.\"\n",
    "    unique_numbers.sort(reverse=True)\n",
    "    return unique_numbers[1]\n"
   ]
  },
  {
   "cell_type": "markdown",
   "id": "346b0f30-20c9-4cb5-b1f6-2ac83521b904",
   "metadata": {
    "id": "bea983a3"
   },
   "source": [
    "```\n",
    "\n",
    "---\n",
    "\n",
    "### Exercise 82:\n",
    "Write a Python function that takes a dictionary and returns a list of its keys in sorted order.\n",
    "\n",
    "```python\n",
    "# Exercise 82"
   ]
  },
  {
   "cell_type": "code",
   "execution_count": null,
   "id": "b46c0d3d-9d3d-4589-9e9b-0e7e12b96bc7",
   "metadata": {},
   "outputs": [],
   "source": [
    "def get_sorted_keys(input_dict):\n",
    "    return sorted(input_dict.keys())"
   ]
  },
  {
   "cell_type": "markdown",
   "id": "d7591ef2-92ed-4793-9d70-7797a9c13897",
   "metadata": {
    "id": "bea983a3"
   },
   "source": [
    "```\n",
    "\n",
    "---\n",
    "\n",
    "### Exercise 83:\n",
    "Write a Python program that finds the most common element in a list.\n",
    "\n",
    "```python\n",
    "# Exercise 83"
   ]
  },
  {
   "cell_type": "code",
   "execution_count": null,
   "id": "a1efa32d-e7a8-4852-94c1-00afc876ec8d",
   "metadata": {},
   "outputs": [],
   "source": [
    "from collections import Counter\n",
    "def most_common_element(lst):\n",
    "    if not lst:\n",
    "        return None  \n",
    "    count = Counter(lst)\n",
    "    return count.most_common(1)[0][0]  "
   ]
  },
  {
   "cell_type": "markdown",
   "id": "429e176b-1ca4-4532-b1f3-1c3fdd4ba085",
   "metadata": {
    "id": "bea983a3"
   },
   "source": [
    "```\n",
    "\n",
    "---\n",
    "\n",
    "### Exercise 84:\n",
    "Write a Python function that takes a list of tuples and returns a list of the tuples sorted by the first element.\n",
    "\n",
    "```python\n",
    "# Exercise 84"
   ]
  },
  {
   "cell_type": "code",
   "execution_count": null,
   "id": "5224e627-6c12-41b3-9076-896764f66fd8",
   "metadata": {},
   "outputs": [],
   "source": [
    "def sort_tuples_by_first_element(tuples_list):\n",
    "    return sorted(tuples_list, key=lambda x: x[0])\n"
   ]
  },
  {
   "cell_type": "markdown",
   "id": "780695df-09c5-4a42-9a7e-0acf32bef90b",
   "metadata": {
    "id": "bea983a3"
   },
   "source": [
    "```\n",
    "\n",
    "---\n",
    "\n",
    "### Exercise 85:\n",
    "Write a Python program that removes duplicates from a list of dictionaries.\n",
    "\n",
    "```python\n",
    "# Exercise 85"
   ]
  },
  {
   "cell_type": "code",
   "execution_count": null,
   "id": "bc0224ad-a8ee-418b-ade9-c9a26ea478f6",
   "metadata": {},
   "outputs": [],
   "source": [
    "def remove_duplicates(dict_list):\n",
    "    # Use a set to track seen dictionaries (converted to tuples)\n",
    "    seen = set()\n",
    "    unique_list = []\n",
    "    \n",
    "    for d in dict_list:\n",
    "        # Convert dictionary to a frozenset of its items to make it hashable\n",
    "        dict_tuple = frozenset(d.items())\n",
    "        if dict_tuple not in seen:\n",
    "            seen.add(dict_tuple)\n",
    "            unique_list.append(d)\n",
    "    \n",
    "    return unique_list\n"
   ]
  },
  {
   "cell_type": "markdown",
   "id": "b1ab91bb-7666-457e-a4a6-0f5b2203a8bd",
   "metadata": {
    "id": "bea983a3"
   },
   "source": [
    "```\n",
    "\n",
    "---\n",
    "\n",
    "### Exercise 86:\n",
    "Write a Python function that takes a list of numbers and returns the minimum and maximum numbers in the list.\n",
    "\n",
    "```python\n",
    "# Exercise 86"
   ]
  },
  {
   "cell_type": "code",
   "execution_count": 1,
   "id": "9b9144e3-aef1-4f8a-a530-916f2da39b80",
   "metadata": {},
   "outputs": [],
   "source": [
    "def find_min_max(numbers):\n",
    "    if not numbers:  \n",
    "        return None, None\n",
    "    minm= min(numbers)\n",
    "    maxm = max(numbers)\n",
    "    return minm, maxm"
   ]
  },
  {
   "cell_type": "markdown",
   "id": "d5c70051-74b6-4228-820b-beb98e8af1f2",
   "metadata": {
    "id": "bea983a3"
   },
   "source": [
    "```\n",
    "\n",
    "---\n",
    "\n",
    "### Exercise 87:\n",
    "Write a Python program that creates a list of tuples from two lists.\n",
    "\n",
    "```python\n",
    "# Exercise 87"
   ]
  },
  {
   "cell_type": "code",
   "execution_count": null,
   "id": "0b32a2c8-1639-46f8-9f96-3c7462835b81",
   "metadata": {},
   "outputs": [],
   "source": [
    "def create_tuples_list(list1, list2):\n",
    "    return list(zip(list1, list2))\n"
   ]
  },
  {
   "cell_type": "markdown",
   "id": "07eb3b2c-dc4f-43f6-b51e-780cb5be475c",
   "metadata": {
    "id": "bea983a3"
   },
   "source": [
    "```\n",
    "\n",
    "---\n",
    "\n",
    "### Exercise 88:\n",
    "Write a Python function that takes a list of strings and returns a list of the strings in reverse order.\n",
    "\n",
    "```python\n",
    "# Exercise 88"
   ]
  },
  {
   "cell_type": "code",
   "execution_count": null,
   "id": "b253a902-d786-40a2-9d89-dc3bb0376782",
   "metadata": {},
   "outputs": [],
   "source": [
    "def reverse_strings_list(string_list):\n",
    "    return string_list[::-1]\n"
   ]
  },
  {
   "cell_type": "markdown",
   "id": "b7faa954-0bb8-4d63-8b8a-6538f035a725",
   "metadata": {
    "id": "bea983a3"
   },
   "source": [
    "```\n",
    "\n",
    "---\n",
    "\n",
    "### Exercise 89:\n",
    "Write a Python function that takes a list of integers and returns the sum of all odd numbers.\n",
    "\n",
    "```python\n",
    "# Exercise 89"
   ]
  },
  {
   "cell_type": "code",
   "execution_count": null,
   "id": "adc0213d-198c-46e0-9461-7a9d93c16dba",
   "metadata": {},
   "outputs": [],
   "source": [
    "def sum_of_odds(numbers):\n",
    "    return sum(num for num in numbers if num % 2 != 0)\n"
   ]
  },
  {
   "cell_type": "code",
   "execution_count": null,
   "id": "ce31ed55-68f4-469a-88fc-f6ff008b9d23",
   "metadata": {},
   "outputs": [],
   "source": []
  },
  {
   "cell_type": "markdown",
   "id": "a65a663d-7cc4-4e7f-9f9b-5948f3e998d6",
   "metadata": {
    "id": "bea983a3"
   },
   "source": [
    "```\n",
    "\n",
    "---\n",
    "\n",
    "### Exercise 90:\n",
    "Write a Python program that checks if a string is a palindrome.\n",
    "\n",
    "```python\n",
    "# Exercise 90"
   ]
  },
  {
   "cell_type": "code",
   "execution_count": 2,
   "id": "44238893-c23f-4ba5-8307-544f857e41f3",
   "metadata": {},
   "outputs": [],
   "source": [
    "def is_palindrome(s):\n",
    "    s = s.replace(\" \", \"\").lower()\n",
    "    return s == s[::-1]\n"
   ]
  },
  {
   "cell_type": "markdown",
   "id": "22a47d00-8aa4-47cd-925b-13983817ffff",
   "metadata": {
    "id": "bea983a3"
   },
   "source": [
    "```\n",
    "\n",
    "---\n",
    "\n",
    "### Exercise 91:\n",
    "Write a Python program that finds the median of a list of numbers.\n",
    "\n",
    "```python\n",
    "# Exercise 91"
   ]
  },
  {
   "cell_type": "code",
   "execution_count": 3,
   "id": "27222929-4024-46a6-916c-58e58e0c50e1",
   "metadata": {},
   "outputs": [],
   "source": [
    "def find_median(numbers):\n",
    "    sorted_numbers = sorted(numbers)\n",
    "    length = len(sorted_numbers)\n",
    "    if length % 2 == 1:\n",
    "        return sorted_numbers[length // 2]\n",
    "    else:\n",
    "        mid1 = sorted_numbers[(length - 1) // 2]\n",
    "        mid2 = sorted_numbers[length // 2]\n",
    "        return (mid1 + mid2) / 2\n"
   ]
  },
  {
   "cell_type": "markdown",
   "id": "e544a5f4-98f2-4332-a51a-44df0fff2294",
   "metadata": {
    "id": "bea983a3"
   },
   "source": [
    "```\n",
    "\n",
    "---\n",
    "\n",
    "### Exercise 92:\n",
    "Write a Python function that takes a list of dictionaries and returns a dictionary with the total value for each key.\n",
    "\n",
    "```python\n",
    "# Exercise 92"
   ]
  },
  {
   "cell_type": "code",
   "execution_count": null,
   "id": "e5e04e04-1975-4e41-bd8a-4e71de9e5424",
   "metadata": {},
   "outputs": [],
   "source": [
    "def sum_dict_values(dict_list):\n",
    "    result = {}\n",
    "    for d in dict_list:\n",
    "        for key, value in d.items():\n",
    "            if key in result:\n",
    "                result[key] += value\n",
    "            else:\n",
    "                result[key] = value\n",
    "    return result\n"
   ]
  },
  {
   "cell_type": "markdown",
   "id": "dfa394f7-0a64-4872-b095-2ca5f77b7291",
   "metadata": {
    "id": "bea983a3"
   },
   "source": [
    "```\n",
    "\n",
    "---\n",
    "\n",
    "### Exercise 93:\n",
    "Write a Python program that calculates the mode of a list of numbers.\n",
    "\n",
    "```python\n",
    "# Exercise 93"
   ]
  },
  {
   "cell_type": "code",
   "execution_count": 4,
   "id": "3961ec8b-fcf7-4395-a925-8c96db8ecba5",
   "metadata": {},
   "outputs": [],
   "source": [
    "from collections import Counter\n",
    "\n",
    "def calculate_mode(numbers):\n",
    "    if not numbers:\n",
    "        return None\n",
    "    count = Counter(numbers)\n",
    "    max_count = max(count.values())\n",
    "    mode = [num for num, freq in count.items() if freq == max_count]\n",
    "    return mode[0] if len(mode) == 1 else mode\n"
   ]
  },
  {
   "cell_type": "markdown",
   "id": "a046df0e-2969-4e7b-8667-8cd47e09d0e5",
   "metadata": {
    "id": "bea983a3"
   },
   "source": [
    "```\n",
    "\n",
    "---\n",
    "\n",
    "### Exercise 94:\n",
    "Write a Python function that takes a list of numbers and returns the sum of the squares of all the numbers.\n",
    "\n",
    "```python\n",
    "# Exercise 94"
   ]
  },
  {
   "cell_type": "code",
   "execution_count": null,
   "id": "ec9afb1d-b45d-4927-b14c-7b48f7c05aa7",
   "metadata": {},
   "outputs": [],
   "source": [
    "def sum_of_squares(numbers):\n",
    "    return sum(x * x for x in numbers)\n"
   ]
  },
  {
   "cell_type": "markdown",
   "id": "e7bb5498-8187-4cfc-a9cc-488041f8fb40",
   "metadata": {
    "id": "bea983a3"
   },
   "source": [
    "```\n",
    "\n",
    "---\n",
    "\n",
    "### Exercise 95:\n",
    "Write a Python program that creates a list of tuples, where each tuple contains a number and its cube for numbers from 1 to 5.\n",
    "\n",
    "```python\n",
    "# Exercise 95"
   ]
  },
  {
   "cell_type": "code",
   "execution_count": null,
   "id": "a6978ec8-a2d5-4be2-9c1c-562b8d0345d8",
   "metadata": {},
   "outputs": [],
   "source": [
    "def create_tuples():\n",
    "    return [(i, i**3) for i in range(1, 6)]\n"
   ]
  },
  {
   "cell_type": "markdown",
   "id": "110ef85d-6710-4134-8a5b-66d4f47e0b2d",
   "metadata": {
    "id": "bea983a3"
   },
   "source": [
    "```\n",
    "\n",
    "---\n",
    "\n",
    "### Exercise 96:\n",
    "Write a Python function that returns a list of all prime numbers up to `n`.\n",
    "\n",
    "```python\n",
    "# Exercise 96"
   ]
  },
  {
   "cell_type": "code",
   "execution_count": null,
   "id": "6e05224d-c804-4f87-97c3-6f43d85d80d6",
   "metadata": {},
   "outputs": [],
   "source": [
    "def get_primes(n):\n",
    "    primes = []\n",
    "    for i in range(2, n + 1):\n",
    "        is_prime = True\n",
    "        for j in range(2, int(i ** 0.5) + 1):\n",
    "            if i % j == 0:\n",
    "                is_prime = False\n",
    "                break\n",
    "        if is_prime:\n",
    "            primes.append(i)\n",
    "    return primes\n"
   ]
  },
  {
   "cell_type": "markdown",
   "id": "f1744444-a376-46bf-83b4-96acdb9b3136",
   "metadata": {
    "id": "bea983a3"
   },
   "source": [
    "```\n",
    "\n",
    "---\n",
    "\n",
    "### Exercise 97:\n",
    "Write a Python program that finds the common keys between two dictionaries.\n",
    "\n",
    "```python\n",
    "# Exercise 97"
   ]
  },
  {
   "cell_type": "code",
   "execution_count": null,
   "id": "69ef176b-283c-4d86-a6e6-cc7b9ce261bd",
   "metadata": {},
   "outputs": [],
   "source": [
    "def common_keys(dict1, dict2):\n",
    "    return list(set(dict1.keys()) & set(dict2.keys()))\n"
   ]
  },
  {
   "cell_type": "markdown",
   "id": "9c2a3397-dfb5-47d3-9ee1-ebd3ccb44264",
   "metadata": {
    "id": "bea983a3"
   },
   "source": [
    "```\n",
    "\n",
    "---\n",
    "\n",
    "### Exercise 98:\n",
    "Write a Python function that takes a list of strings and returns a list of the strings that contain more than 5 characters.\n",
    "\n",
    "```python\n",
    "# Exercise 98"
   ]
  },
  {
   "cell_type": "code",
   "execution_count": null,
   "id": "cc46b8b4-84c0-4054-b59a-b24e036c445e",
   "metadata": {},
   "outputs": [],
   "source": [
    "def filter_long_strings(string_list):\n",
    "    return [s for s in string_list if len(s) > 5]\n",
    "\n"
   ]
  },
  {
   "cell_type": "markdown",
   "id": "db243cb9-cde2-4424-8df5-2718b683892a",
   "metadata": {
    "id": "bea983a3"
   },
   "source": [
    "```\n",
    "\n",
    "---\n",
    "\n",
    "### Exercise 99:\n",
    "Write a Python program that converts a list of strings into a list of tuples, where each tuple contains the string and its length.\n",
    "\n",
    "```python\n",
    "# Exercise 99\n",
    "```"
   ]
  },
  {
   "cell_type": "code",
   "execution_count": null,
   "id": "559c7712-5710-4837-a26b-b2e43beb0842",
   "metadata": {},
   "outputs": [],
   "source": [
    "def string_length_tuples(string_list):\n",
    "    return [(s, len(s)) for s in string_list]"
   ]
  },
  {
   "cell_type": "markdown",
   "id": "e6b09ae0-f8cd-4faf-9bdd-39890466a936",
   "metadata": {
    "id": "bea983a3"
   },
   "source": [
    "---\n",
    "\n",
    "### Exercise 100:\n",
    "Write a Python function that takes a list of dictionaries and returns a new dictionary by summing the values of each key across all dictionaries.\n",
    "\n",
    "```python\n",
    "# Exercise 100\n",
    "```\n",
    "\n",
    "---"
   ]
  },
  {
   "cell_type": "code",
   "execution_count": null,
   "id": "003c4384-70de-47ea-851c-9672bb589884",
   "metadata": {},
   "outputs": [],
   "source": [
    "def filter_long_strings(string_list):\n",
    "    return [s for s in string_list if len(s) > 5]\n",
    "\n"
   ]
  }
 ],
 "metadata": {
  "colab": {
   "provenance": []
  },
  "kernelspec": {
   "display_name": "Python 3 (ipykernel)",
   "language": "python",
   "name": "python3"
  },
  "language_info": {
   "codemirror_mode": {
    "name": "ipython",
    "version": 3
   },
   "file_extension": ".py",
   "mimetype": "text/x-python",
   "name": "python",
   "nbconvert_exporter": "python",
   "pygments_lexer": "ipython3",
   "version": "3.12.7"
  }
 },
 "nbformat": 4,
 "nbformat_minor": 5
}
