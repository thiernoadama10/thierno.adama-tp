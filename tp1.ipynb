{
 "cells": [
  {
   "cell_type": "code",
   "execution_count": 5,
   "id": "edb22532",
   "metadata": {},
   "outputs": [],
   "source": [
    "x=10"
   ]
  },
  {
   "cell_type": "code",
   "execution_count": null,
   "id": "fd9a8bc5",
   "metadata": {},
   "outputs": [],
   "source": [
    "is_valid= True"
   ]
  },
  {
   "cell_type": "code",
   "execution_count": 3,
   "id": "085c0a8c",
   "metadata": {},
   "outputs": [],
   "source": [
    "name= \"Python Programming\""
   ]
  },
  {
   "cell_type": "code",
   "execution_count": 4,
   "id": "b5ffbeeb",
   "metadata": {},
   "outputs": [],
   "source": [
    "sum_result=5+3"
   ]
  },
  {
   "cell_type": "code",
   "execution_count": 6,
   "id": "5f75e749",
   "metadata": {},
   "outputs": [],
   "source": [
    " a,b,c=15,10,5.\n",
    "\n"
   ]
  },
  {
   "cell_type": "code",
   "execution_count": 8,
   "id": "5f434732",
   "metadata": {},
   "outputs": [],
   "source": [
    "y=x"
   ]
  },
  {
   "cell_type": "code",
   "execution_count": 9,
   "id": "c4412603",
   "metadata": {},
   "outputs": [],
   "source": [
    "gravity='9.8'"
   ]
  },
  {
   "cell_type": "code",
   "execution_count": 10,
   "id": "3fdf89a3",
   "metadata": {},
   "outputs": [],
   "source": [
    "country='senegal'"
   ]
  },
  {
   "cell_type": "code",
   "execution_count": 11,
   "id": "e695ced0",
   "metadata": {},
   "outputs": [],
   "source": [
    "age='25'\n",
    "age='26'\n"
   ]
  },
  {
   "cell_type": "code",
   "execution_count": 12,
   "id": "37e3e53d",
   "metadata": {},
   "outputs": [],
   "source": [
    "c=20-7"
   ]
  },
  {
   "cell_type": "code",
   "execution_count": 13,
   "id": "06b31d6d",
   "metadata": {},
   "outputs": [],
   "source": [
    "a= 21\n",
    "b=3.1"
   ]
  },
  {
   "cell_type": "code",
   "execution_count": 14,
   "id": "fd5a1123",
   "metadata": {},
   "outputs": [],
   "source": [
    "is_completed= False"
   ]
  },
  {
   "cell_type": "code",
   "execution_count": 15,
   "id": "1209620c",
   "metadata": {},
   "outputs": [],
   "source": [
    "m=x\n",
    "y=m\n",
    "n=y\n",
    "x=n"
   ]
  },
  {
   "cell_type": "code",
   "execution_count": 16,
   "id": "26c63191",
   "metadata": {},
   "outputs": [],
   "source": [
    "complex_num=3+4j"
   ]
  },
  {
   "cell_type": "code",
   "execution_count": 17,
   "id": "db559402",
   "metadata": {},
   "outputs": [],
   "source": [
    "a=str(21)"
   ]
  },
  {
   "cell_type": "code",
   "execution_count": 18,
   "id": "02484272",
   "metadata": {},
   "outputs": [],
   "source": [
    "temperature=35.5"
   ]
  },
  {
   "cell_type": "code",
   "execution_count": 19,
   "id": "1f6a7541",
   "metadata": {},
   "outputs": [],
   "source": [
    "product=8 * 6"
   ]
  },
  {
   "cell_type": "code",
   "execution_count": 21,
   "id": "a2298f1d",
   "metadata": {},
   "outputs": [],
   "source": [
    "sentence= 'moi'"
   ]
  },
  {
   "cell_type": "code",
   "execution_count": 22,
   "id": "7959311f",
   "metadata": {},
   "outputs": [],
   "source": [
    "int_value=str('50')"
   ]
  },
  {
   "cell_type": "code",
   "execution_count": 23,
   "id": "ea79ed3f",
   "metadata": {},
   "outputs": [],
   "source": [
    "quotient=144/12"
   ]
  },
  {
   "cell_type": "code",
   "execution_count": 24,
   "id": "7751127c",
   "metadata": {},
   "outputs": [],
   "source": [
    "remainder=47/5"
   ]
  },
  {
   "cell_type": "code",
   "execution_count": 25,
   "id": "3ea565dd",
   "metadata": {},
   "outputs": [],
   "source": [
    "is_student= True"
   ]
  },
  {
   "cell_type": "code",
   "execution_count": 26,
   "id": "3daa8df2",
   "metadata": {},
   "outputs": [],
   "source": [
    "val=45 % 4"
   ]
  },
  {
   "cell_type": "code",
   "execution_count": 27,
   "id": "50a56b9c",
   "metadata": {},
   "outputs": [],
   "source": [
    "pi=3.14159"
   ]
  },
  {
   "cell_type": "code",
   "execution_count": 28,
   "id": "c3928161",
   "metadata": {},
   "outputs": [],
   "source": [
    "length= 13"
   ]
  },
  {
   "cell_type": "code",
   "execution_count": 29,
   "id": "4620904b",
   "metadata": {},
   "outputs": [],
   "source": [
    "width=23"
   ]
  },
  {
   "cell_type": "code",
   "execution_count": 31,
   "id": "49005951",
   "metadata": {},
   "outputs": [],
   "source": [
    "area=length *width"
   ]
  },
  {
   "cell_type": "code",
   "execution_count": 32,
   "id": "3155eab7",
   "metadata": {},
   "outputs": [],
   "source": [
    "negative_value=-4"
   ]
  },
  {
   "cell_type": "code",
   "execution_count": 33,
   "id": "c0c2352c",
   "metadata": {},
   "outputs": [],
   "source": [
    "greeting=\"Hello, World!\""
   ]
  },
  {
   "cell_type": "code",
   "execution_count": 36,
   "id": "ee35d035",
   "metadata": {},
   "outputs": [],
   "source": [
    "population= 19.10**6"
   ]
  },
  {
   "cell_type": "code",
   "execution_count": 40,
   "id": "54faafb5",
   "metadata": {},
   "outputs": [],
   "source": [
    "z=2**8\n",
    "fruits='eat'"
   ]
  },
  {
   "cell_type": "code",
   "execution_count": 38,
   "id": "f146f88c",
   "metadata": {},
   "outputs": [],
   "source": [
    "coordinates=(7,8,9)"
   ]
  },
  {
   "cell_type": "code",
   "execution_count": 43,
   "id": "eadf4646",
   "metadata": {},
   "outputs": [],
   "source": [
    "person={'name':'adama',age:27}"
   ]
  },
  {
   "cell_type": "code",
   "execution_count": 44,
   "id": "6c0ab36c",
   "metadata": {},
   "outputs": [],
   "source": [
    "sum= 23.1+4.1"
   ]
  },
  {
   "cell_type": "code",
   "execution_count": 46,
   "id": "54d81e4e",
   "metadata": {},
   "outputs": [],
   "source": [
    "is_sunny=10>5"
   ]
  },
  {
   "cell_type": "code",
   "execution_count": 47,
   "id": "c70d5b0d",
   "metadata": {},
   "outputs": [
    {
     "name": "stdout",
     "output_type": "stream",
     "text": [
      "5 Tan\n"
     ]
    }
   ],
   "source": [
    "v=5\n",
    "k='Tan'\n",
    "print(v,k)"
   ]
  },
  {
   "cell_type": "code",
   "execution_count": 48,
   "id": "5158604a",
   "metadata": {},
   "outputs": [],
   "source": [
    "p=6\n",
    "p=True"
   ]
  },
  {
   "cell_type": "code",
   "execution_count": 49,
   "id": "9a20d1ca",
   "metadata": {},
   "outputs": [],
   "source": [
    "is_weekend= False"
   ]
  },
  {
   "cell_type": "code",
   "execution_count": 50,
   "id": "3ae2dd35",
   "metadata": {},
   "outputs": [],
   "source": [
    "description='il travaille dure pour satisfaire ses parents'"
   ]
  },
  {
   "cell_type": "code",
   "execution_count": 51,
   "id": "ae2c3c1c",
   "metadata": {},
   "outputs": [],
   "source": [
    "f=abs(-25)"
   ]
  },
  {
   "cell_type": "code",
   "execution_count": 52,
   "id": "7962d365",
   "metadata": {},
   "outputs": [],
   "source": [
    "floor_div_result=100//6"
   ]
  },
  {
   "cell_type": "code",
   "execution_count": 53,
   "id": "cc2a27bf",
   "metadata": {},
   "outputs": [],
   "source": [
    "mixed_sum= 2.4+4\n"
   ]
  },
  {
   "cell_type": "code",
   "execution_count": 54,
   "id": "f8de15d2",
   "metadata": {},
   "outputs": [],
   "source": [
    "r=10==15"
   ]
  },
  {
   "cell_type": "code",
   "execution_count": 55,
   "id": "a874a7a4",
   "metadata": {},
   "outputs": [
    {
     "data": {
      "text/plain": [
       "17"
      ]
     },
     "execution_count": 55,
     "metadata": {},
     "output_type": "execute_result"
    }
   ],
   "source": [
    "ouly='hbd little sister'\n",
    "len(ouly)"
   ]
  },
  {
   "cell_type": "code",
   "execution_count": 56,
   "id": "3bcdc07b",
   "metadata": {},
   "outputs": [],
   "source": [
    "division_result=7/3"
   ]
  },
  {
   "cell_type": "code",
   "execution_count": 58,
   "id": "3637a77d",
   "metadata": {},
   "outputs": [],
   "source": [
    "speed = '100 kilometers per hour'"
   ]
  },
  {
   "cell_type": "code",
   "execution_count": 61,
   "id": "ae95c757",
   "metadata": {},
   "outputs": [],
   "source": [
    "x=4\n",
    "y = 3*x + 5 "
   ]
  },
  {
   "cell_type": "code",
   "execution_count": null,
   "id": "0398ef92",
   "metadata": {},
   "outputs": [],
   "source": [
    "u=3*4+6"
   ]
  }
 ],
 "metadata": {
  "kernelspec": {
   "display_name": "Python 3 (ipykernel)",
   "language": "python",
   "name": "python3"
  },
  "language_info": {
   "codemirror_mode": {
    "name": "ipython",
    "version": 3
   },
   "file_extension": ".py",
   "mimetype": "text/x-python",
   "name": "python",
   "nbconvert_exporter": "python",
   "pygments_lexer": "ipython3",
   "version": "3.10.12"
  }
 },
 "nbformat": 4,
 "nbformat_minor": 5
}
