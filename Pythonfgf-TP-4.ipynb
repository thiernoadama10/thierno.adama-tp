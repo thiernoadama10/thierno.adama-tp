{
 "cells": [
  {
   "cell_type": "markdown",
   "id": "d68c1dee",
   "metadata": {
    "id": "d68c1dee"
   },
   "source": [
    "# Practical_4: Flow control"
   ]
  },
  {
   "cell_type": "markdown",
   "id": "ac7ba8eb-b56b-4b19-be27-d9bf17c7adac",
   "metadata": {
    "id": "bea983a3"
   },
   "source": [
    "---\n",
    "\n",
    "### Exercise 1:\n",
    "Write a Python program that checks if a number is positive or negative.\n",
    "\n",
    "```python\n",
    "# Exercise 1"
   ]
  },
  {
   "cell_type": "code",
   "execution_count": null,
   "id": "a09a1cda-0c53-462a-85a1-b216047cbd33",
   "metadata": {
    "id": "bea983a3"
   },
   "outputs": [],
   "source": [
    "number = float(input(\"Enter a number: \"))\n",
    "if number > 0:\n",
    "    print(\"The number is positive.\")\n",
    "elif number < 0:\n",
    "    print(\"The number is negative.\")\n",
    "else:\n",
    "    print(\"The number is zero.\")"
   ]
  },
  {
   "cell_type": "markdown",
   "id": "7589c936-a4da-492b-b508-bc46f5104a28",
   "metadata": {
    "id": "bea983a3"
   },
   "source": [
    "```\n",
    "\n",
    "---\n",
    "\n",
    "### Exercise 2:\n",
    "Write a Python function that checks if a string starts with a vowel.\n",
    "\n",
    "```python\n",
    "# Exercise 2"
   ]
  },
  {
   "cell_type": "code",
   "execution_count": 1,
   "id": "c20f9ac9-0746-4016-bd41-1b97feb0a241",
   "metadata": {},
   "outputs": [],
   "source": [
    "def st_wh_vowel(s):\n",
    "    vowels = \"aexffDHFXCSC\"\n",
    "    return s[0] in vowels if s else False"
   ]
  },
  {
   "cell_type": "markdown",
   "id": "923d574d-a508-4208-b54f-159b08c2c7e6",
   "metadata": {
    "id": "bea983a3"
   },
   "source": [
    "```\n",
    "\n",
    "---\n",
    "\n",
    "### Exercise 3:\n",
    "Write a Python program that takes a list of integers and prints \"Even\" for each even number and \"Odd\" for each odd number.\n",
    "\n",
    "```python\n",
    "# Exercise 3"
   ]
  },
  {
   "cell_type": "code",
   "execution_count": 4,
   "id": "f754dc8c-8dce-4303-94e7-1ba977a0f908",
   "metadata": {},
   "outputs": [],
   "source": [
    "def chk_evn_od(numbers):\n",
    "    for num in numbers:\n",
    "        if num % 2 == 0:\n",
    "            print(f\"{num}: Even\")\n",
    "        else:\n",
    "            print(f\"{num}: Odd\")"
   ]
  },
  {
   "cell_type": "markdown",
   "id": "6b38ac19-5bfe-4f81-9aa0-fa33a7f27d95",
   "metadata": {
    "id": "bea983a3"
   },
   "source": [
    "```\n",
    "\n",
    "---\n",
    "\n",
    "### Exercise 4:\n",
    "Write a Python program that checks if a given year is a leap year.\n",
    "\n",
    "```python\n",
    "# Exercise 4"
   ]
  },
  {
   "cell_type": "code",
   "execution_count": 6,
   "id": "6f99dff5-dabf-4af8-aa27-b1b964edad9a",
   "metadata": {},
   "outputs": [
    {
     "name": "stdin",
     "output_type": "stream",
     "text": [
      "Enter a year:  5\n"
     ]
    },
    {
     "name": "stdout",
     "output_type": "stream",
     "text": [
      "5 is not a leap year.\n"
     ]
    }
   ],
   "source": [
    "\n",
    "def is_leap_year(year):\n",
    "    if (year % 4 == 0 and year % 100 != 0) or (year % 400 == 0):\n",
    "        return True\n",
    "    return False\n",
    "year = int(input(\"Enter a year: \"))\n",
    "if is_leap_year(year):\n",
    "    print(f\"{year} is a leap year.\")\n",
    "else:\n",
    "    print(f\"{year} is not a leap year.\")\n"
   ]
  },
  {
   "cell_type": "markdown",
   "id": "f13eb3b4-ccae-476e-808d-89c27b996931",
   "metadata": {
    "id": "bea983a3"
   },
   "source": [
    "```\n",
    "\n",
    "---\n",
    "\n",
    "### Exercise 5:\n",
    "Write a Python function that checks if a number is divisible by both 3 and 5.\n",
    "\n",
    "```python\n",
    "# Exercise 5"
   ]
  },
  {
   "cell_type": "code",
   "execution_count": null,
   "id": "5802bc94-1e4e-460d-b0ab-429b64fe1ac2",
   "metadata": {},
   "outputs": [],
   "source": [
    "def is_divisible_by_3_and_5(number):\n",
    "    return number % 3 == 0 and number % 5 == 0"
   ]
  },
  {
   "cell_type": "markdown",
   "id": "86cfd26b-8f40-427f-ab1b-33b2554d6989",
   "metadata": {
    "id": "bea983a3"
   },
   "source": [
    "```\n",
    "\n",
    "---\n",
    "\n",
    "### Exercise 6:\n",
    "Write a Python program that prints \"Hot\" if the temperature is above 30, \"Warm\" if it is between 15 and 30, and \"Cold\" if it is below 15.\n",
    "\n",
    "```python\n",
    "# Exercise 6"
   ]
  },
  {
   "cell_type": "code",
   "execution_count": 7,
   "id": "cafc5343-64b2-4c02-b69b-424bbf84f25c",
   "metadata": {},
   "outputs": [
    {
     "name": "stdin",
     "output_type": "stream",
     "text": [
      "Enter the temperature in Celsius:  45\n"
     ]
    },
    {
     "name": "stdout",
     "output_type": "stream",
     "text": [
      "Hot\n"
     ]
    }
   ],
   "source": [
    "temprt = float(input(\"Enter the temperature in Celsius: \"))\n",
    "if temprt  > 30:\n",
    "    print(\"Hot\")\n",
    "elif 15 <= temprt <= 30:\n",
    "    print(\"Warm\")\n",
    "else:\n",
    "    print(\"Cold\")"
   ]
  },
  {
   "cell_type": "markdown",
   "id": "1c21a498-f59e-4253-93ca-3e6a79611307",
   "metadata": {
    "id": "bea983a3"
   },
   "source": [
    "```\n",
    "\n",
    "---\n",
    "\n",
    "### Exercise 7:\n",
    "Write a Python program that checks if a string contains the letter 'a'.\n",
    "\n",
    "```python\n",
    "# Exercise 7"
   ]
  },
  {
   "cell_type": "code",
   "execution_count": 4,
   "id": "c216d077-26a4-490d-9718-be583c7362bc",
   "metadata": {},
   "outputs": [
    {
     "name": "stdin",
     "output_type": "stream",
     "text": [
      "Enter a string:  gjh\n"
     ]
    },
    {
     "name": "stdout",
     "output_type": "stream",
     "text": [
      "The string does not contain the letter 'a'.\n"
     ]
    }
   ],
   "source": [
    "input_str = input(\"Enter a string: \")\n",
    "if 'a' in input_str:\n",
    "    print(\"The string contains the letter 'a'.\")\n",
    "else:\n",
    "    print(\"The string does not contain the letter 'a'.\")"
   ]
  },
  {
   "cell_type": "markdown",
   "id": "e7b4d94d-54fa-49f7-a61d-8d5968baab34",
   "metadata": {
    "id": "bea983a3"
   },
   "source": [
    "```\n",
    "\n",
    "---\n",
    "\n",
    "### Exercise 8:\n",
    "Write a Python function that checks if two numbers are equal, or which one is larger.\n",
    "\n",
    "```python\n",
    "# Exercise 8"
   ]
  },
  {
   "cell_type": "code",
   "execution_count": 3,
   "id": "b4579c5d-615c-40ca-8a09-dffc69eb3135",
   "metadata": {},
   "outputs": [],
   "source": [
    "def compare_numbers(a, b):\n",
    "    if a == b:\n",
    "        return \"The numbers are equal.\"\n",
    "    elif a > b:\n",
    "        return f\"The first number ({a}) is larger than the second number ({b}).\"\n",
    "    else:\n",
    "        return f\"The second number ({b}) is larger than the first number ({a}).\"\n"
   ]
  },
  {
   "cell_type": "markdown",
   "id": "de99659b-5e53-4ae2-a980-5cc44fdde077",
   "metadata": {
    "id": "bea983a3"
   },
   "source": [
    "```\n",
    "\n",
    "---\n",
    "\n",
    "### Exercise 9:\n",
    "Write a Python program that checks if a list is empty.\n",
    "\n",
    "```python\n",
    "# Exercise 9"
   ]
  },
  {
   "cell_type": "code",
   "execution_count": 5,
   "id": "7bc3e8f1-4db4-4d78-aec4-425d452afda9",
   "metadata": {},
   "outputs": [],
   "source": [
    "def check_empty_list(lst):\n",
    "    if not lst:\n",
    "        print(\"The list is empty.\")\n",
    "    else:\n",
    "        print(\"The list is not empty.\")"
   ]
  },
  {
   "cell_type": "markdown",
   "id": "6d53cbef-8c69-45b5-9d96-63282379707c",
   "metadata": {
    "id": "bea983a3"
   },
   "source": [
    "```\n",
    "\n",
    "---\n",
    "\n",
    "### Exercise 10:\n",
    "Write a Python function that takes two strings and checks if they are anagrams.\n",
    "\n",
    "```python\n",
    "# Exercise 10"
   ]
  },
  {
   "cell_type": "code",
   "execution_count": null,
   "id": "3ed2e800-18f2-46ed-80b7-675e2b018afa",
   "metadata": {},
   "outputs": [],
   "source": [
    "def are_anagrams(str1, str2):\n",
    "    str1 = str1.replace(\" \", \"\").lower()\n",
    "    str2 = str2.replace(\" \", \"\").lower()\n",
    "    return sorted(str1) == sorted(str2)\n"
   ]
  },
  {
   "cell_type": "markdown",
   "id": "67bf4871-d1e1-40bd-a02e-14d6f09c561c",
   "metadata": {
    "id": "bea983a3"
   },
   "source": [
    "```\n",
    "\n",
    "---\n",
    "\n",
    "### Exercise 11:\n",
    "Write a Python program that checks if a number is prime.\n",
    "\n",
    "```python\n",
    "# Exercise 11"
   ]
  },
  {
   "cell_type": "code",
   "execution_count": null,
   "id": "1e997f4a-af9a-46f8-a8b3-080babc73091",
   "metadata": {},
   "outputs": [],
   "source": [
    "def is_prime(n):\n",
    "    if n < 2:\n",
    "        return False\n",
    "    for i in range(2, int(n ** 0.5) + 1):\n",
    "        if n % i == 0:\n",
    "            return False\n",
    "    return True\n"
   ]
  },
  {
   "cell_type": "markdown",
   "id": "cee46640-d1cb-4f1c-b9ee-623c5b346223",
   "metadata": {
    "id": "bea983a3"
   },
   "source": [
    "```\n",
    "\n",
    "---\n",
    "\n",
    "### Exercise 12:\n",
    "Write a Python program that checks if a list of numbers is sorted in ascending order.\n",
    "\n",
    "```python\n",
    "# Exercise 12"
   ]
  },
  {
   "cell_type": "code",
   "execution_count": 8,
   "id": "649e6f8f-5120-4254-9e54-26594047f835",
   "metadata": {},
   "outputs": [],
   "source": [
    "def is_sorted(numbers):\n",
    "    if len(numbers) <= 1:\n",
    "        return True\n",
    "    for i in range(len(numbers) - 1):\n",
    "        if numbers[i] > numbers[i + 1]:\n",
    "            return False\n",
    "    return True\n",
    "\n"
   ]
  },
  {
   "cell_type": "markdown",
   "id": "7412da2b-e13c-488e-a541-c85c91c57ef7",
   "metadata": {
    "id": "bea983a3"
   },
   "source": [
    "```\n",
    "\n",
    "---\n",
    "\n",
    "### Exercise 13:\n",
    "Write a Python function that takes a character and checks if it is a digit.\n",
    "\n",
    "```python\n",
    "# Exercise 13"
   ]
  },
  {
   "cell_type": "code",
   "execution_count": null,
   "id": "5fb01fae-c5c9-4361-8eeb-7cd203dbb157",
   "metadata": {},
   "outputs": [],
   "source": [
    "def is_digit(char):\n",
    "    return char.isdigit()\n",
    "\n"
   ]
  },
  {
   "cell_type": "markdown",
   "id": "9f763865-ddf2-4e9a-9ff4-30910857dcf2",
   "metadata": {
    "id": "bea983a3"
   },
   "source": [
    "```\n",
    "\n",
    "---\n",
    "\n",
    "### Exercise 14:\n",
    "Write a Python function that checks if a string contains only uppercase letters.\n",
    "\n",
    "```python\n",
    "# Exercise 14"
   ]
  },
  {
   "cell_type": "code",
   "execution_count": null,
   "id": "da8330ca-2a32-4d27-a9b0-34286e7a82b8",
   "metadata": {},
   "outputs": [],
   "source": [
    "def is_uppercase(string):\n",
    "    return string.isupper()\n"
   ]
  },
  {
   "cell_type": "markdown",
   "id": "e79eb066-a501-4c2c-94da-6f1297c09e8b",
   "metadata": {
    "id": "bea983a3"
   },
   "source": [
    "```\n",
    "\n",
    "---\n",
    "\n",
    "### Exercise 15:\n",
    "Write a Python program that checks if a number is a multiple of 10.\n",
    "\n",
    "```python\n",
    "# Exercise 15"
   ]
  },
  {
   "cell_type": "code",
   "execution_count": null,
   "id": "3ae997bf-2fe8-4267-b1ab-c66239c4c075",
   "metadata": {},
   "outputs": [],
   "source": [
    "def is_multiple_of_ten(n):\n",
    "    return n % 10 == 0\n",
    "\n"
   ]
  },
  {
   "cell_type": "markdown",
   "id": "11765ef2-522e-46f9-9736-8aa34ad7db28",
   "metadata": {
    "id": "bea983a3"
   },
   "source": [
    "```\n",
    "\n",
    "---\n",
    "\n",
    "### Exercise 16:\n",
    "Write a Python function that checks if a list contains any duplicates.\n",
    "\n",
    "```python\n",
    "# Exercise 16"
   ]
  },
  {
   "cell_type": "code",
   "execution_count": null,
   "id": "f3dfd96a-66b9-4218-8a05-0cf48a4855e6",
   "metadata": {},
   "outputs": [],
   "source": [
    "def has_duplicates(lst):\n",
    "    return len(lst) != len(set(lst))\n",
    "\n"
   ]
  },
  {
   "cell_type": "markdown",
   "id": "622b75ff-de5c-4c4f-aba0-823e3af9f256",
   "metadata": {
    "id": "bea983a3"
   },
   "source": [
    "```\n",
    "\n",
    "---\n",
    "\n",
    "### Exercise 17:\n",
    "Write a Python program that prints \"Teenager\" if the age is between 13 and 19, otherwise it prints \"Not a teenager.\"\n",
    "\n",
    "```python\n",
    "# Exercise 17"
   ]
  },
  {
   "cell_type": "code",
   "execution_count": null,
   "id": "40be25a6-8c5c-421b-8ef0-7ff8382678ee",
   "metadata": {},
   "outputs": [],
   "source": [
    "age = int(input(\"Entrez l'âge : \"))\n",
    "if 13 <= age <= 19:\n",
    "    print(\"Teenager\")\n",
    "else:\n",
    "    print(\"Not a teenager\")"
   ]
  },
  {
   "cell_type": "markdown",
   "id": "dc421374-9d83-49a0-b786-cb35ba0173bf",
   "metadata": {
    "id": "bea983a3"
   },
   "source": [
    "```\n",
    "\n",
    "---\n",
    "\n",
    "### Exercise 18:\n",
    "Write a Python function that checks if a list contains an element greater than 100.\n",
    "\n",
    "```python\n",
    "# Exercise 18"
   ]
  },
  {
   "cell_type": "code",
   "execution_count": null,
   "id": "416b7f0d-9b60-4b7a-aaaf-cb256e5d5b73",
   "metadata": {},
   "outputs": [],
   "source": [
    "def has_element_greater_than_100(lst):\n",
    "    return any(x > 100 for x in lst)\n"
   ]
  },
  {
   "cell_type": "markdown",
   "id": "4407ead0-ac39-49e6-94ea-58eb77ba2785",
   "metadata": {
    "id": "bea983a3"
   },
   "source": [
    "```\n",
    "\n",
    "---\n",
    "\n",
    "### Exercise 19:\n",
    "Write a Python program that checks if a number is even or odd.\n",
    "\n",
    "```python\n",
    "# Exercise 19"
   ]
  },
  {
   "cell_type": "code",
   "execution_count": null,
   "id": "f98d18a3-c053-4b16-a6b7-d22182e847c0",
   "metadata": {},
   "outputs": [],
   "source": [
    "number = int(input(\"Entrez un nombre : \"))\n",
    "if number % 2 == 0:\n",
    "    print(\"Le nombre est pair.\")\n",
    "else:\n",
    "    print(\"Le nombre est impair.\")"
   ]
  },
  {
   "cell_type": "markdown",
   "id": "3cf79dc5-fc64-4979-b661-f84df4d80fe9",
   "metadata": {
    "id": "bea983a3"
   },
   "source": [
    "```\n",
    "\n",
    "---\n",
    "\n",
    "### Exercise 20:\n",
    "Write a Python function that checks if a string ends with a punctuation mark.\n",
    "\n",
    "```python\n",
    "# Exercise 20"
   ]
  },
  {
   "cell_type": "code",
   "execution_count": null,
   "id": "8766a9f2-fe56-4641-906b-b79808261790",
   "metadata": {},
   "outputs": [],
   "source": [
    "def ends_with_punctuation(string):\n",
    "    punctuation = \".,!?;:\"\n",
    "    return string[-1] in punctuation if string else False\n",
    "\n"
   ]
  },
  {
   "cell_type": "markdown",
   "id": "e5293848-fbd6-42ca-9d25-4c11e1c88983",
   "metadata": {
    "id": "bea983a3"
   },
   "source": [
    "```"
   ]
  },
  {
   "cell_type": "markdown",
   "id": "b6e0de5f-df5d-4c74-a89a-71439379795d",
   "metadata": {
    "id": "bea983a3"
   },
   "source": [
    "---\n",
    "\n",
    "### Exercise 21:\n",
    "Write a Python program that prints \"Yes\" if the number is between 1 and 100, otherwise it prints \"No.\"\n",
    "\n",
    "```python\n",
    "# Exercise 21"
   ]
  },
  {
   "cell_type": "code",
   "execution_count": null,
   "id": "b8de1c07-637d-4416-ba91-c920f0340e00",
   "metadata": {},
   "outputs": [],
   "source": [
    "number = int(input(\"Enter a number: \"))\n",
    "if 1 <= number <= 100:\n",
    "    print(\"Yes\")\n",
    "else:\n",
    "    print(\"No\")"
   ]
  },
  {
   "cell_type": "markdown",
   "id": "fba93936-0b58-45da-b91b-48bead37a1f7",
   "metadata": {
    "id": "bea983a3"
   },
   "source": [
    "```"
   ]
  },
  {
   "cell_type": "markdown",
   "id": "a9cc96c1-446b-45fd-9ddd-c2e61f5236b5",
   "metadata": {
    "id": "bea983a3"
   },
   "source": [
    "---\n",
    "\n",
    "### Exercise 22:\n",
    "Write a Python program that checks if two strings have the same length.\n",
    "\n",
    "```python\n",
    "# Exercise 22"
   ]
  },
  {
   "cell_type": "code",
   "execution_count": null,
   "id": "73f614b8-c95f-4166-80ac-26f255411bac",
   "metadata": {},
   "outputs": [],
   "source": [
    "def check_same_length(string1, string2):\n",
    "    if len(string1) == len(string2):\n",
    "        return \"The strings have the same length.\"\n",
    "    else:\n",
    "        return \"The strings do not have the same length."
   ]
  },
  {
   "cell_type": "markdown",
   "id": "ce35b710-a894-40bf-a1eb-f3d015478ea7",
   "metadata": {
    "id": "bea983a3"
   },
   "source": [
    "```\n",
    "\n",
    "---"
   ]
  },
  {
   "cell_type": "markdown",
   "id": "77a66e28-7f84-42d8-9305-fd1a5bafa371",
   "metadata": {
    "id": "bea983a3"
   },
   "source": [
    "### Exercise 23:\n",
    "Write a Python function that checks if a number is greater than its reverse.\n",
    "\n",
    "```python\n",
    "# Exercise 23"
   ]
  },
  {
   "cell_type": "code",
   "execution_count": 9,
   "id": "79c47d24-3d92-4ab5-a382-b339cf480a35",
   "metadata": {},
   "outputs": [
    {
     "name": "stdin",
     "output_type": "stream",
     "text": [
      "Enter a number:  23\n"
     ]
    },
    {
     "name": "stdout",
     "output_type": "stream",
     "text": [
      "The number is not greater than its reverse\n"
     ]
    }
   ],
   "source": [
    "n = int(input(\"Enter a number: \"))\n",
    "print(\"The number is greater than its reverse\" if int(str(n)[::-1]) < n else \"The number is not greater than its reverse\")\n",
    "\n"
   ]
  },
  {
   "cell_type": "markdown",
   "id": "6e04a135-74d2-46f7-b351-863dba261ece",
   "metadata": {
    "id": "bea983a3"
   },
   "source": [
    "```\n",
    "\n",
    "---"
   ]
  },
  {
   "cell_type": "markdown",
   "id": "2aa1826f-82b2-4b15-913e-1be54a7dd643",
   "metadata": {
    "id": "bea983a3"
   },
   "source": [
    "### Exercise 24:\n",
    "Write a Python program that checks if a password contains both letters and numbers.\n",
    "\n",
    "```python\n",
    "# Exercise 24"
   ]
  },
  {
   "cell_type": "code",
   "execution_count": 11,
   "id": "4dddacd9-4e21-4d77-ad5b-c6affe930a11",
   "metadata": {},
   "outputs": [
    {
     "name": "stdin",
     "output_type": "stream",
     "text": [
      "Enter a password:  gfgfjg\n"
     ]
    },
    {
     "name": "stdout",
     "output_type": "stream",
     "text": [
      "The password must contain both letters and numbers\n"
     ]
    }
   ],
   "source": [
    "p = input(\"Enter a password: \")\n",
    "if any(c.isalpha() for c in p) and any(c.isdigit() for c in p):\n",
    "    print(\"The password contains both letters and numbers\")\n",
    "else:\n",
    "    print(\"The password must contain both letters and numbers\")"
   ]
  },
  {
   "cell_type": "markdown",
   "id": "5ca801c1-1661-40df-a0b0-7cd06f4d8973",
   "metadata": {
    "id": "bea983a3"
   },
   "source": [
    "```\n",
    "\n",
    "---"
   ]
  },
  {
   "cell_type": "markdown",
   "id": "3dcb46de-1c14-46a4-93a4-072bb2306245",
   "metadata": {
    "id": "bea983a3"
   },
   "source": [
    "### Exercise 25:\n",
    "Write a Python program that checks if a number is between two given numbers.\n",
    "\n",
    "```python\n",
    "# Exercise 25"
   ]
  },
  {
   "cell_type": "code",
   "execution_count": null,
   "id": "7d0b8edd-1ca9-4c4e-acad-6f577158fdf1",
   "metadata": {
    "id": "bea983a3"
   },
   "outputs": [],
   "source": [
    "num = int(input(\"Enter a number: \"))  \n",
    "num1 = int(input(\"Enter first number: \")) \n",
    "num2 = int(input(\"Enter second number: \"))  \n",
    "if num1 <= num <= num2 or num2 <= num <= num1:  \n",
    "    print(\"The number is between the two given numbers\") \n",
    "else:  # Mot-clé en bleu\n",
    "     print (\"The number is not between the two given numbers\") \n"
   ]
  },
  {
   "cell_type": "markdown",
   "id": "ed1237b7-1fac-4dbf-8af9-2157049bd4ba",
   "metadata": {
    "id": "bea983a3"
   },
   "source": [
    "```\n",
    "\n",
    "---"
   ]
  },
  {
   "cell_type": "markdown",
   "id": "5c60801c-dafe-471c-9dd7-5a6c732aa76f",
   "metadata": {
    "id": "bea983a3"
   },
   "source": [
    "### Exercise 26:\n",
    "Write a Python function that checks if all characters in a string are unique.\n",
    "\n",
    "```python\n",
    "# Exercise 26"
   ]
  },
  {
   "cell_type": "code",
   "execution_count": null,
   "id": "3f2c39ce-38dc-4631-91bc-476663feed9a",
   "metadata": {},
   "outputs": [],
   "source": [
    "def is_unique(s): \n",
    "    return len(s) == len(set(s))  \n",
    "\n",
    "string = input(\"Enter a string: \") \n",
    "if is_unique(string):\n",
    "    print(\"All characters are unique\" \n",
    "else :\n",
    "    print(\"Not all characters are unique\")"
   ]
  },
  {
   "cell_type": "markdown",
   "id": "b7e2b707-d4c7-4efc-a54b-cd0f3f7ddcd8",
   "metadata": {
    "id": "bea983a3"
   },
   "source": [
    "### Exercise 27:\n",
    "Write a Python program that checks if a number is a perfect square.\n",
    "\n",
    "```python\n",
    "# Exercise 27"
   ]
  },
  {
   "cell_type": "code",
   "execution_count": null,
   "id": "2b377011-0963-4b4f-af46-d6b1d7d0c198",
   "metadata": {},
   "outputs": [],
   "source": [
    "num = int(input(\"Enter a number: \"))  \n",
    "root = int(num ** 0.5) \n",
    "if root * root == num:  \n",
    "    print(\"The number is a perfect square\")  \n",
    "else:  # Mot-clé en bleu\n",
    "    print(\"The number is not a perfect square\")  \n"
   ]
  },
  {
   "cell_type": "markdown",
   "id": "7f0fc4b5-5a4c-45b5-9c2e-74d00f3d684c",
   "metadata": {
    "id": "bea983a3"
   },
   "source": [
    "---\n",
    "\n",
    "### Exercise 28:\n",
    "Write a Python function that checks if a word is a palindrome.\n",
    "\n",
    "```python\n",
    "# Exercise 28"
   ]
  },
  {
   "cell_type": "code",
   "execution_count": null,
   "id": "82d19b20-622c-4886-b0bc-f08a3c4c9db2",
   "metadata": {},
   "outputs": [],
   "source": [
    "def is_palindrome(word):  \n",
    "    return word == word[::-1]  \n",
    "\n",
    "word = input(\"Enter a word: \")  \n",
    "if is_palindrome(word):\n",
    "    print(\"The word is a palindrome\" )\n",
    "else:\n",
    "    print(\"The word is not a palindrome\")"
   ]
  },
  {
   "cell_type": "markdown",
   "id": "110956d8-59cc-4ffa-99fd-c34e368b1373",
   "metadata": {
    "id": "bea983a3"
   },
   "source": [
    "```"
   ]
  },
  {
   "cell_type": "markdown",
   "id": "6914db9d-3926-4765-8e3d-bb44d3741bd2",
   "metadata": {
    "id": "bea983a3"
   },
   "source": [
    "---\n",
    "\n",
    "### Exercise 29:\n",
    "Write a Python program that prints \"Fizz\" if a number is divisible by 3, \"Buzz\" if it is divisible by 5, and \"FizzBuzz\" if divisible by both.\n",
    "\n",
    "```python\n",
    "# Exercise 29"
   ]
  },
  {
   "cell_type": "code",
   "execution_count": null,
   "id": "d07b7a66-48f8-4df9-97b4-428233107769",
   "metadata": {},
   "outputs": [],
   "source": [
    "num = int(input(\"Enter a number: \"))  \n",
    "if num % 3 == 0 and num % 5 == 0: \n",
    "    print(\"FizzBuzz\")  \n",
    "elif num % 3 == 0:  \n",
    "    print(\"Fizz\") \n",
    "elif num % 5 == 0:  \n",
    "    print(\"Buzz\")  \n",
    "else:  \n",
    "    print(num)  \n"
   ]
  },
  {
   "cell_type": "markdown",
   "id": "ec074ed8-26d5-4f14-bdfc-1e9b6cb2c108",
   "metadata": {
    "id": "bea983a3"
   },
   "source": [
    "```"
   ]
  },
  {
   "cell_type": "markdown",
   "id": "652f5f42-5a90-4f3a-a75d-cf971ecb5bef",
   "metadata": {
    "id": "bea983a3"
   },
   "source": [
    "\n",
    "---\n",
    "\n",
    "### Exercise 30:\n",
    "Write a Python program that checks if the sum of the digits of a number is even.\n",
    "\n",
    "```python\n",
    "# Exercise 30"
   ]
  },
  {
   "cell_type": "code",
   "execution_count": null,
   "id": "e76fe601-445f-4ea4-a0a5-3aef10a7db5b",
   "metadata": {},
   "outputs": [],
   "source": [
    "num = int(input(\"Enter a number: \"))  \n",
    "digit_sum = sum(int(digit) for digit in str(num)) \n",
    "if digit_sum % 2 == 0:  \n",
    "    print(\"The sum of the digits is even\")  \n",
    "else:  \n",
    "    print(\"The sum of the digits is odd\")  "
   ]
  },
  {
   "cell_type": "markdown",
   "id": "b99cb308-06b7-4b66-9f57-ed1e3708a9c7",
   "metadata": {
    "id": "bea983a3"
   },
   "source": [
    "```\n",
    "\n",
    "---"
   ]
  },
  {
   "cell_type": "markdown",
   "id": "d94f1e2f-bd2b-43cf-af7b-f42a99e67763",
   "metadata": {
    "id": "bea983a3"
   },
   "source": [
    "### Exercise 31:\n",
    "Write a Python program that checks if a string is a valid email address.\n",
    "\n",
    "```python\n",
    "# Exercise 31"
   ]
  },
  {
   "cell_type": "code",
   "execution_count": null,
   "id": "77fcaba2-56e2-41cd-8f27-e90b2eb568f1",
   "metadata": {},
   "outputs": [],
   "source": [
    "email = input(\"Enter an email address: \") \n",
    "if \"@\" in email and \".\" in email and email.index(\"@\") < email.index(\".\"):  \n",
    "    print(\"The email address is valid\") \n",
    "else:  \n",
    "    print(\"The email address is not valid\") \n"
   ]
  },
  {
   "cell_type": "markdown",
   "id": "3d21129d-5b9a-4b57-a05a-6262cf283a61",
   "metadata": {
    "id": "bea983a3"
   },
   "source": [
    "```"
   ]
  },
  {
   "cell_type": "markdown",
   "id": "c0f18231-d570-414a-b1b6-dc974217ef0d",
   "metadata": {
    "id": "bea983a3"
   },
   "source": [
    "---\n",
    "\n",
    "### Exercise 32:\n",
    "Write a Python function that checks if a number is within 10 of 100 or 200.\n",
    "\n",
    "```python\n",
    "# Exercise 32"
   ]
  },
  {
   "cell_type": "code",
   "execution_count": 12,
   "id": "66da9fb1-5ac1-4f92-8874-410331865ff8",
   "metadata": {},
   "outputs": [
    {
     "name": "stdin",
     "output_type": "stream",
     "text": [
      "Enter a number:  20\n"
     ]
    },
    {
     "name": "stdout",
     "output_type": "stream",
     "text": [
      "The number is not within 10 of 100 or 200\n"
     ]
    }
   ],
   "source": [
    "def is_within_ten(num):  \n",
    "    return 90 <= num <= 110 or 190 <= num <= 210  \n",
    "\n",
    "number = int(input(\"Enter a number: \")) \n",
    "if is_within_ten(number):\n",
    "   print(\"The number is within 10 of 100 or 200\" ) \n",
    "else :\n",
    "   print (\"The number is not within 10 of 100 or 200\")"
   ]
  },
  {
   "cell_type": "markdown",
   "id": "8737b289-47ce-4895-9bad-974e059aa624",
   "metadata": {
    "id": "bea983a3"
   },
   "source": [
    "```"
   ]
  },
  {
   "cell_type": "markdown",
   "id": "5ba9d058-d208-448b-b183-922144538688",
   "metadata": {
    "id": "bea983a3"
   },
   "source": [
    "---\n",
    "\n",
    "### Exercise 33:\n",
    "Write a Python program that checks if a given string is a valid URL.\n",
    "\n",
    "```python\n",
    "# Exercise 33"
   ]
  },
  {
   "cell_type": "code",
   "execution_count": null,
   "id": "45c83e0e-d5af-4225-a730-93e6fb5584c6",
   "metadata": {},
   "outputs": [],
   "source": [
    "url = input(\"Enter a URL: \")  L\n",
    "if url.startswith((\"http://\", \"https://\")) and \".\" in url and not url.endswith(\".\"): \n",
    "    print(\"The URL is valid\") \n",
    "else:  \n",
    "    print(\"The URL is not valid\") \n"
   ]
  },
  {
   "cell_type": "markdown",
   "id": "dba7d204-a55b-4e58-8392-c38027b7ad99",
   "metadata": {
    "id": "bea983a3"
   },
   "source": [
    "### Exercise 34:\n",
    "Write a Python program that checks if a list contains all even numbers.\n",
    "\n",
    "```python\n",
    "# Exercise 34"
   ]
  },
  {
   "cell_type": "code",
   "execution_count": null,
   "id": "55fe152e-e202-446d-bb12-57d739a73f38",
   "metadata": {},
   "outputs": [],
   "source": [
    "def all_even(numbers): \n",
    "    return all(num % 2 == 0 for num in numbers) \n",
    "\n",
    "nums = list(map(int, input(\"Enter numbers separated by spaces: \").split()))  \n",
    "if all_even(nums): \n",
    "   print(\"The list contains all even numbers\" )\n",
    "else :\n",
    "   print(\"The list does not contain all even numbers\")"
   ]
  },
  {
   "cell_type": "markdown",
   "id": "84dc5dc8-ddfe-423d-ac7a-1f7f5b4894fb",
   "metadata": {
    "id": "bea983a3"
   },
   "source": [
    "---\n",
    "\n",
    "### Exercise 35:\n",
    "Write a Python program that checks if a word is longer than a given length.\n",
    "\n",
    "```python\n",
    "# Exercise 35"
   ]
  },
  {
   "cell_type": "code",
   "execution_count": null,
   "id": "bab2a92f-a47c-425c-af27-cf9821df21d4",
   "metadata": {},
   "outputs": [],
   "source": [
    "length = int(input(\"Enter the length threshold: \"))  \n",
    "word = input(\"Enter a word: \")  \n",
    "if len(word) > length:  \n",
    "    print(\"The word is longer than the given length\")  \n",
    "else: \n",
    "    print(\"The word is not longer than the given length\") "
   ]
  },
  {
   "cell_type": "markdown",
   "id": "0527a06a-b466-4fdd-8843-5f9c7e156e72",
   "metadata": {
    "id": "bea983a3"
   },
   "source": [
    "```"
   ]
  },
  {
   "cell_type": "markdown",
   "id": "3f5b2585-6acd-4632-a007-76e51e2cd699",
   "metadata": {
    "id": "bea983a3"
   },
   "source": [
    "---\n",
    "\n",
    "### Exercise 36:\n",
    "Write a Python program that checks if a list contains only positive numbers.\n",
    "\n",
    "```python\n",
    "# Exercise 36"
   ]
  },
  {
   "cell_type": "code",
   "execution_count": null,
   "id": "72b6e862-8e74-4b90-ab72-bfe1870ebeee",
   "metadata": {},
   "outputs": [],
   "source": [
    "def all_positive(numbers): \n",
    "    return all(num > 0 for num in numbers)  \n",
    "\n",
    "nums = list(map(int, input(\"Enter numbers separated by spaces: \").split()))  \n",
    "if all_positive(nums): \n",
    "    print(\"The list contains only positive numbers\")\n",
    "else: \n",
    "    print(\"The list does not contain only positive numbers\") l"
   ]
  },
  {
   "cell_type": "markdown",
   "id": "e7780038-ec7c-401e-b167-b05907876df0",
   "metadata": {
    "id": "bea983a3"
   },
   "source": [
    "```\n",
    "\n",
    "---"
   ]
  },
  {
   "cell_type": "markdown",
   "id": "8d7ecd7e-776a-407d-b423-d6925f63ae09",
   "metadata": {
    "id": "bea983a3"
   },
   "source": [
    "### Exercise 37:\n",
    "Write a Python function that checks if a year is a century year (i.e., divisible by 100).\n",
    "\n",
    "```python\n",
    "# Exercise 37"
   ]
  },
  {
   "cell_type": "code",
   "execution_count": null,
   "id": "6c47c91c-22ef-44f2-b689-0d3f824b48e6",
   "metadata": {},
   "outputs": [],
   "source": [
    "def is_century_year(year):  \n",
    "    return year % 100 == 0  \n",
    "\n",
    "year = int(input(\"Enter a year: \")) \n",
    "if is_century_year(year):\n",
    "   print(\"The year is a century year\")\n",
    "else :\n",
    "   print(\"The year is not a century year\")\n"
   ]
  },
  {
   "cell_type": "markdown",
   "id": "f36a8963-db05-4638-bef2-218186d31cc5",
   "metadata": {
    "id": "bea983a3"
   },
   "source": [
    "```\n",
    "\n",
    "---"
   ]
  },
  {
   "cell_type": "markdown",
   "id": "83e7df89-e04b-4bba-8838-2c3d9f6006ed",
   "metadata": {
    "id": "bea983a3"
   },
   "source": [
    "### Exercise 38:\n",
    "Write a Python program that checks if the sum of a list of numbers is greater than 100.\n",
    "\n",
    "```python\n",
    "# Exercise 38"
   ]
  },
  {
   "cell_type": "code",
   "execution_count": null,
   "id": "3870ac19-3a41-4c42-ba21-1c51fd6965fb",
   "metadata": {},
   "outputs": [],
   "source": [
    "numbers = list(map(int, input(\"Enter numbers separated by spaces: \").split()))  \n",
    "if sum(numbers) > 100:  \n",
    "    print(\"The sum of the list of numbers is greater than 100\")  \n",
    "else:  \n",
    "    print(\"The sum of the list of numbers is not greater than 100\")  "
   ]
  },
  {
   "cell_type": "markdown",
   "id": "17244182-5d50-46dc-b42c-a100a5a286d7",
   "metadata": {
    "id": "bea983a3"
   },
   "source": [
    "```"
   ]
  },
  {
   "cell_type": "markdown",
   "id": "e36c347a-fdcc-408f-9487-6a3bda04af07",
   "metadata": {
    "id": "bea983a3"
   },
   "source": [
    "---\n",
    "\n",
    "### Exercise 39:\n",
    "Write a Python function that checks if a given word is a substring of another string.\n",
    "\n",
    "```python\n",
    "# Exercise 39"
   ]
  },
  {
   "cell_type": "code",
   "execution_count": null,
   "id": "4c8d9dbd-83f9-468e-b8ce-1f308e8e3692",
   "metadata": {},
   "outputs": [],
   "source": [
    "def is_substring(word, string): \n",
    "    return word in string\n",
    "word = input(“Enter a word: “) \n",
    "string = input(“Enter a string: “) \n",
    "if is_substring(word, string:\n",
    "   print(“The word is a substring of the string” ) \n",
    "else:\n",
    "   print(“The word is not a substring of the string”)\n"
   ]
  },
  {
   "cell_type": "markdown",
   "id": "59d44d8e-fdc2-4ded-9d35-07e3bdb330b8",
   "metadata": {
    "id": "bea983a3"
   },
   "source": [
    "### Exercise 40:\n",
    "Write a Python program that checks if a number is a power of 2.\n",
    "\n",
    "```python\n",
    "# Exercise 40"
   ]
  },
  {
   "cell_type": "code",
   "execution_count": null,
   "id": "eceb821b-1323-4cb4-bcf9-48098851d9a7",
   "metadata": {},
   "outputs": [],
   "source": [
    "def is_power_of_two(n): \n",
    "    return n > 0 and (n & (n - 1)) == 0\n",
    "number = int(input(“Enter a number: “)) \n",
    "if is_power_of_two(number):\n",
    "   print(“The number is a power of 2” )\n",
    "else :\n",
    "   print(“The number is not a power of 2”)"
   ]
  },
  {
   "cell_type": "markdown",
   "id": "895403d1-212b-4ecc-b2a3-bd4e22cd1351",
   "metadata": {
    "id": "bea983a3"
   },
   "source": [
    "---\n",
    "\n",
    "### Exercise 41:\n",
    "Write a Python function that checks if a string contains no spaces.\n",
    "\n",
    "```python\n",
    "# Exercise 41"
   ]
  },
  {
   "cell_type": "code",
   "execution_count": null,
   "id": "acbaa7e9-9654-40e6-8929-8a53a10b19d9",
   "metadata": {},
   "outputs": [],
   "source": [
    "def contains_no_spaces(s):\n",
    "    return ' ' not in s"
   ]
  },
  {
   "cell_type": "markdown",
   "id": "e0f14e8f-5ac5-4920-a23c-3c83505e0676",
   "metadata": {
    "id": "bea983a3"
   },
   "source": [
    "---\n",
    "\n",
    "### Exercise 42:\n",
    "Write a Python program that prints \"Yes\" if a number is divisible by both 2 and 3, otherwise it prints \"No.\"\n",
    "\n",
    "```python\n",
    "# Exercise 42"
   ]
  },
  {
   "cell_type": "code",
   "execution_count": null,
   "id": "0d65d97c-916a-474f-b40f-a9c35c74558b",
   "metadata": {},
   "outputs": [],
   "source": [
    "number = int(input(\"Enter an integer: \"))\n",
    "if number % 2 == 0 and number % 3 == 0:\n",
    "    print(\"Yes\")\n",
    "else:\n",
    "    print(\"No\")"
   ]
  },
  {
   "cell_type": "markdown",
   "id": "c0383ddf-bd28-474d-9ebc-d3e40c342acb",
   "metadata": {
    "id": "bea983a3"
   },
   "source": [
    "### Exercise 43:\n",
    "Write a Python program that checks if a number is a palindrome.\n",
    "\n",
    "```python\n",
    "# Exercise 43"
   ]
  },
  {
   "cell_type": "code",
   "execution_count": null,
   "id": "561fa7f9-f6e8-44d3-9f95-dca04c7053f6",
   "metadata": {},
   "outputs": [],
   "source": [
    "def is_palindrome(number):\n",
    "    str_number = str(number)\n",
    "    return str_number == str_number[::-1]"
   ]
  },
  {
   "cell_type": "markdown",
   "id": "b95c66a5-cbc8-4ed4-a88c-10a5765c4f0c",
   "metadata": {
    "id": "bea983a3"
   },
   "source": [
    "---\n",
    "\n",
    "### Exercise 44:\n",
    "Write a Python function that checks if a string is made of only lowercase letters.\n",
    "\n",
    "```python\n",
    "# Exercise 44"
   ]
  },
  {
   "cell_type": "code",
   "execution_count": null,
   "id": "7e0497c1-4241-4415-9453-e205faf6e8f9",
   "metadata": {},
   "outputs": [],
   "source": [
    "def is_only_lowercase(s):\n",
    "    return s.islower() and s.isalpha()"
   ]
  },
  {
   "cell_type": "markdown",
   "id": "e18c3cfe-cefb-442e-917d-3355acafa74a",
   "metadata": {
    "id": "bea983a3"
   },
   "source": [
    "### Exercise 45:\n",
    "Write a Python program that checks if a string starts with a specific prefix.\n",
    "\n",
    "```python\n",
    "# Exercise 45"
   ]
  },
  {
   "cell_type": "code",
   "execution_count": null,
   "id": "ba6eea68-3509-4164-9ab7-c7bdcfb9204d",
   "metadata": {},
   "outputs": [],
   "source": [
    "string = input(\"Enter the string: \")\n",
    "prefix = input(\"Enter the prefix to check: \")\n",
    "if string.startswith(prefix):\n",
    "    print(f\"Yes, the string starts with the prefix '{prefix}'.\")\n",
    "else:\n",
    "    print(f\"No, the string does not start with the prefix '{prefix}'.\")"
   ]
  },
  {
   "cell_type": "markdown",
   "id": "fe9d8450-81d3-476a-997f-739f1b008269",
   "metadata": {
    "id": "bea983a3"
   },
   "source": [
    "### Exercise 46:\n",
    "Write a Python function that checks if a number is divisible by any number in a given list.\n",
    "\n",
    "```python\n",
    "# Exercise 46"
   ]
  },
  {
   "cell_type": "code",
   "execution_count": null,
   "id": "9b1441cf-3e07-43f1-b0c8-99432b406a57",
   "metadata": {
    "id": "bea983a3"
   },
   "outputs": [],
   "source": [
    "def is_divisible_by_any(number, divisors):\n",
    "    for divisor in divisors:\n",
    "        if divisor != 0 and number % divisor == 0:\n",
    "            return True\n",
    "    return False"
   ]
  },
  {
   "cell_type": "markdown",
   "id": "68cfec7a-7e87-47aa-a1d0-8569de148643",
   "metadata": {
    "id": "bea983a3"
   },
   "source": [
    "---\n",
    "\n",
    "### Exercise 47:\n",
    "Write a Python program that prints \"Yes\" if a string has more than one occurrence of the same letter.\n",
    "\n",
    "```python\n",
    "# Exercise 47"
   ]
  },
  {
   "cell_type": "code",
   "execution_count": null,
   "id": "7790dad7-3e97-414e-a1d1-479928ccca0f",
   "metadata": {},
   "outputs": [],
   "source": [
    "def has_duplicate_letters(s):\n",
    "    seen = set()\n",
    "    for char in s:\n",
    "        if char in seen:\n",
    "            print(\"Yes\")\n",
    "            return\n",
    "        seen.add(char)\n",
    "    print(\"No\")"
   ]
  },
  {
   "cell_type": "markdown",
   "id": "118d552f-2557-471d-a91c-d2aafa132275",
   "metadata": {
    "id": "bea983a3"
   },
   "source": [
    "---\n",
    "\n",
    "### Exercise 48:\n",
    "Write a Python function that checks if a number is prime by dividing it by numbers up to its square root.\n",
    "\n",
    "```python\n",
    "# Exercise 48"
   ]
  },
  {
   "cell_type": "code",
   "execution_count": null,
   "id": "cf35354b-bde0-4f6e-9a2e-ca7b2c5f90f9",
   "metadata": {},
   "outputs": [],
   "source": [
    "def is_prime(number):\n",
    "    if number <= 1:\n",
    "        return False  \n",
    "    if number <= 3:\n",
    "        return True  \n",
    "    if number % 2 == 0 or number % 3 == 0:\n",
    "        return False  \n"
   ]
  },
  {
   "cell_type": "markdown",
   "id": "61d629a5-aef3-4e28-afb1-4cc3a311cd4d",
   "metadata": {
    "id": "bea983a3"
   },
   "source": [
    "---\n",
    "\n",
    "### Exercise 49:\n",
    "Write a Python program that checks if a number is within 1 of a multiple of 10.\n",
    "\n",
    "```python\n",
    "# Exercise 49"
   ]
  },
  {
   "cell_type": "code",
   "execution_count": null,
   "id": "62a8571f-900c-47b1-ba44-9cbd60150f55",
   "metadata": {},
   "outputs": [],
   "source": [
    "def is_within_one_of_multiple_of_ten(number):\n",
    "    remainder = number % 10\n",
    "    return remainder == 1 or remainder == 9"
   ]
  },
  {
   "cell_type": "markdown",
   "id": "12ab7f2b-1ffd-43d1-95a0-a0340ad9c398",
   "metadata": {
    "id": "bea983a3"
   },
   "source": [
    "### Exercise 50:\n",
    "Write a Python program that prints \"In range\" if a number is between 10 and 20 (inclusive), otherwise it prints \"Out of range.\"\n",
    "\n",
    "```python\n",
    "# Exercise 50\n",
    "```\n",
    "\n",
    "---"
   ]
  },
  {
   "cell_type": "code",
   "execution_count": null,
   "id": "6f69dcb4-25a2-4448-9ac2-2b89e8e65e44",
   "metadata": {},
   "outputs": [],
   "source": []
  }
 ],
 "metadata": {
  "colab": {
   "provenance": []
  },
  "kernelspec": {
   "display_name": "Python 3 (ipykernel)",
   "language": "python",
   "name": "python3"
  },
  "language_info": {
   "codemirror_mode": {
    "name": "ipython",
    "version": 3
   },
   "file_extension": ".py",
   "mimetype": "text/x-python",
   "name": "python",
   "nbconvert_exporter": "python",
   "pygments_lexer": "ipython3",
   "version": "3.12.7"
  }
 },
 "nbformat": 4,
 "nbformat_minor": 5
}
