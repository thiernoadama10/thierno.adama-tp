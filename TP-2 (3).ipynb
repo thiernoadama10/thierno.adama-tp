{
 "cells": [
  {
   "cell_type": "markdown",
   "id": "d68c1dee",
   "metadata": {
    "id": "d68c1dee"
   },
   "source": [
    "# Practical_2: String and files"
   ]
  },
  {
   "cell_type": "markdown",
   "id": "50f36aae-96fc-491c-b430-94f8c14d771e",
   "metadata": {
    "id": "bea983a3"
   },
   "source": [
    "---\n",
    "\n",
    "### Exercise 1:\n",
    "Create a string variable `text` and assign it the value `\"Python is amazing!\"`.\n",
    "\n",
    "```python"
   ]
  },
  {
   "cell_type": "code",
   "execution_count": null,
   "id": "91889584-32fd-46f2-9ccd-d5731dc228c8",
   "metadata": {},
   "outputs": [],
   "source": [
    "text=\"Python is amazing!\""
   ]
  },
  {
   "cell_type": "markdown",
   "id": "100a9125-afdb-4741-be05-bb409358e17e",
   "metadata": {
    "id": "bea983a3"
   },
   "source": [
    "# Exercise 1\n",
    "```\n",
    "\n",
    "---\n",
    "\n",
    "### Exercise 2:\n",
    "Find the length of the string `\"Hello, World!\"` and store it in a variable `length`.\n",
    "\n",
    "```python"
   ]
  },
  {
   "cell_type": "code",
   "execution_count": null,
   "id": "272e108e-c406-4d88-887e-20b2258d9020",
   "metadata": {},
   "outputs": [],
   "source": [
    "len(\"Hello, World!\")"
   ]
  },
  {
   "cell_type": "markdown",
   "id": "f22ed5de-329b-4180-b99d-6e3471cd5ff1",
   "metadata": {
    "id": "bea983a3"
   },
   "source": [
    "# Exercise 2\n",
    "```\n",
    "\n",
    "---\n",
    "\n",
    "### Exercise 3:\n",
    "Convert the string `\"python programming\"` to uppercase and store it in a variable `upper_text`.\n",
    "\n",
    "```python"
   ]
  },
  {
   "cell_type": "code",
   "execution_count": 1,
   "id": "0fb182dc-2b82-413a-8c02-917e54d4dbc7",
   "metadata": {},
   "outputs": [
    {
     "data": {
      "text/plain": [
       "'PYTHON PROGRAMMING'"
      ]
     },
     "execution_count": 1,
     "metadata": {},
     "output_type": "execute_result"
    }
   ],
   "source": [
    "ama=\"python programming\"\n",
    "ama.upper()"
   ]
  },
  {
   "cell_type": "markdown",
   "id": "bd0459e9-b731-4c8c-be85-377655cdbc8d",
   "metadata": {
    "id": "bea983a3"
   },
   "source": [
    "# Exercise 3\n",
    "```\n",
    "\n",
    "---\n",
    "\n",
    "### Exercise 4:\n",
    "Extract the first 5 characters from the string `\"Artificial Intelligence\"`.\n",
    "\n",
    "```python\n",
    "# Exercise 4"
   ]
  },
  {
   "cell_type": "code",
   "execution_count": 2,
   "id": "eae0a94b-c875-44c3-890b-2214501b8533",
   "metadata": {},
   "outputs": [
    {
     "data": {
      "text/plain": [
       "'Artif'"
      ]
     },
     "execution_count": 2,
     "metadata": {},
     "output_type": "execute_result"
    }
   ],
   "source": [
    "csd=\"Artificial Intelligence\"\n",
    "csd[:5]"
   ]
  },
  {
   "cell_type": "markdown",
   "id": "adc74584-7ee9-427c-9d80-a126a1cac6fd",
   "metadata": {
    "id": "bea983a3"
   },
   "source": [
    "```\n",
    "\n",
    "---\n",
    "\n",
    "### Exercise 5:\n",
    "Concatenate the strings `\"Hello\"` and `\"World\"` with a space in between.\n",
    "\n",
    "```python\n",
    "# Exercise 5"
   ]
  },
  {
   "cell_type": "code",
   "execution_count": 9,
   "id": "8cc669db-b10c-45ff-b7d9-8dbbff1f66c3",
   "metadata": {},
   "outputs": [
    {
     "data": {
      "text/plain": [
       "'hello world'"
      ]
     },
     "execution_count": 9,
     "metadata": {},
     "output_type": "execute_result"
    }
   ],
   "source": [
    "cv=\"hello \" + \"world\"\n",
    "cv"
   ]
  },
  {
   "cell_type": "markdown",
   "id": "774e5dc5-318e-4b3b-ac07-c6366301350b",
   "metadata": {
    "id": "bea983a3"
   },
   "source": [
    "```\n",
    "\n",
    "---\n",
    "\n",
    "### Exercise 6:\n",
    "Replace the word `\"dog\"` with `\"cat\"` in the string `\"The quick brown dog jumps over the lazy dog.\"`.\n",
    "\n",
    "```python\n",
    "# Exercise 6"
   ]
  },
  {
   "cell_type": "code",
   "execution_count": 10,
   "id": "7c60cf9e-9ab0-4b38-834d-66a0e5348ade",
   "metadata": {},
   "outputs": [
    {
     "data": {
      "text/plain": [
       "'The quick brown cat jumps over the lazy cat.'"
      ]
     },
     "execution_count": 10,
     "metadata": {},
     "output_type": "execute_result"
    }
   ],
   "source": [
    "ssd=\"The quick brown dog jumps over the lazy dog.\"\n",
    "ssd.replace(\"dog\",\"cat\")"
   ]
  },
  {
   "cell_type": "markdown",
   "id": "6ff5317f-1a69-4b20-921b-23758a934695",
   "metadata": {
    "id": "bea983a3"
   },
   "source": [
    "```\n",
    "\n",
    "---\n",
    "\n",
    "### Exercise 7:\n",
    "Split the string `\"apple,banana,orange\"` by commas and store the result in a list `fruits_list`.\n",
    "\n",
    "```python\n",
    "# Exercise 7"
   ]
  },
  {
   "cell_type": "code",
   "execution_count": 20,
   "id": "d547b63a-14f6-4234-af3d-3dfce9eddabd",
   "metadata": {},
   "outputs": [
    {
     "data": {
      "text/plain": [
       "['apple,banana,orange']"
      ]
     },
     "execution_count": 20,
     "metadata": {},
     "output_type": "execute_result"
    }
   ],
   "source": [
    "csdd=\"apple,banana,orange\"\n",
    "dssc=csdd.split(\"'\")\n",
    "dssc"
   ]
  },
  {
   "cell_type": "markdown",
   "id": "6de0d2e9-cdf3-4450-b1b1-0ec404a8a083",
   "metadata": {
    "id": "bea983a3"
   },
   "source": [
    "```\n",
    "\n",
    "---\n",
    "\n",
    "### Exercise 8:\n",
    "Use string formatting to create the sentence `\"My name is Alice and I am 25 years old.\"`, where the name and age are variables.\n",
    "\n",
    "```python\n",
    "# Exercise 8"
   ]
  },
  {
   "cell_type": "code",
   "execution_count": 22,
   "id": "5daec97a-387f-4ca5-8ca7-b6c215612014",
   "metadata": {},
   "outputs": [
    {
     "name": "stdout",
     "output_type": "stream",
     "text": [
      "My name is Alice and i am 25 years old.\n"
     ]
    }
   ],
   "source": [
    "name=\"Alice\"\n",
    "age= 25\n",
    "sentence =f\"My name is {name} and i am {age} years old.\"\n",
    "print(sentence)"
   ]
  },
  {
   "cell_type": "markdown",
   "id": "e2e26f90-354b-455b-9461-0dd7e29ff8aa",
   "metadata": {
    "id": "bea983a3"
   },
   "source": [
    "```\n",
    "\n",
    "---\n",
    "\n",
    "### Exercise 9:\n",
    "Check if the string `\"python\"` is present in the sentence `\"I love python programming\"`.\n",
    "\n",
    "```python\n",
    "# Exercise 9"
   ]
  },
  {
   "cell_type": "code",
   "execution_count": 23,
   "id": "62c7ecb6-7839-4fe7-8dcb-d0de98f2e947",
   "metadata": {},
   "outputs": [
    {
     "data": {
      "text/plain": [
       "True"
      ]
     },
     "execution_count": 23,
     "metadata": {},
     "output_type": "execute_result"
    }
   ],
   "source": [
    "pt=\"I love python programming\"\n",
    "\"python\" in pt"
   ]
  },
  {
   "cell_type": "markdown",
   "id": "1335660f-a766-4350-8aa3-592bc58f03f6",
   "metadata": {
    "id": "bea983a3"
   },
   "source": [
    "```\n",
    "\n",
    "---\n",
    "\n",
    "### Exercise 10:\n",
    "Count the number of occurrences of the letter `\"e\"` in the string `\"Elephant is an elegant animal\"`.\n",
    "\n",
    "```python\n",
    "# Exercise 10"
   ]
  },
  {
   "cell_type": "code",
   "execution_count": 25,
   "id": "3e65d0b0-2db0-408a-b28e-37e43e527b4d",
   "metadata": {},
   "outputs": [
    {
     "data": {
      "text/plain": [
       "3"
      ]
     },
     "execution_count": 25,
     "metadata": {},
     "output_type": "execute_result"
    }
   ],
   "source": [
    "elep=\"Elephant is an elegant animal\"\n",
    "elep.count(\"e\")"
   ]
  },
  {
   "cell_type": "markdown",
   "id": "671ca0b2-42ba-4480-aea7-771c7629abc8",
   "metadata": {
    "id": "bea983a3"
   },
   "source": [
    "```\n",
    "\n",
    "---\n",
    "\n",
    "### Exercise 11:\n",
    "Remove any leading and trailing spaces from the string `\"   Data Science   \"`.\n",
    "\n",
    "```python\n",
    "# Exercise 11\n",
    "```"
   ]
  },
  {
   "cell_type": "code",
   "execution_count": 30,
   "id": "0eb3c4b2-6d30-40ce-80dc-eb97d7a4ef9f",
   "metadata": {},
   "outputs": [
    {
     "data": {
      "text/plain": [
       "'DataScience'"
      ]
     },
     "execution_count": 30,
     "metadata": {},
     "output_type": "execute_result"
    }
   ],
   "source": [
    "bd=\"   Data Science   \"\n",
    "bd.replace(\" \",\"\")"
   ]
  },
  {
   "cell_type": "markdown",
   "id": "5d4d9a2c-236e-4ef0-9cc9-b094cb5936f9",
   "metadata": {
    "id": "bea983a3"
   },
   "source": [
    "---\n",
    "\n",
    "### Exercise 12:\n",
    "Convert the string `\"100\"` into an integer and store it in a variable `int_value`.\n",
    "\n",
    "```python\n",
    "# Exercise 12\n",
    "```"
   ]
  },
  {
   "cell_type": "code",
   "execution_count": null,
   "id": "119937ba-fc35-4e02-b900-cd906cfd1f9e",
   "metadata": {},
   "outputs": [],
   "source": [
    "int_value=int(\"100\")"
   ]
  },
  {
   "cell_type": "markdown",
   "id": "62af9d22-d95c-4fc6-b9a2-60b68a58b563",
   "metadata": {
    "id": "bea983a3"
   },
   "source": [
    "---\n",
    "\n",
    "### Exercise 13:\n",
    "Extract the substring `\"pro\"` from the string `\"programming\"`.\n",
    "\n",
    "```python\n",
    "# Exercise 13\n",
    "```"
   ]
  },
  {
   "cell_type": "code",
   "execution_count": 31,
   "id": "7a214585-c944-4eef-90fb-bd5c9af84817",
   "metadata": {},
   "outputs": [
    {
     "data": {
      "text/plain": [
       "'pro'"
      ]
     },
     "execution_count": 31,
     "metadata": {},
     "output_type": "execute_result"
    }
   ],
   "source": [
    "csb=\"programming\"\n",
    "csb[:3]"
   ]
  },
  {
   "cell_type": "markdown",
   "id": "0668c169-9a80-425f-99ac-ffa98471eb0c",
   "metadata": {
    "id": "bea983a3"
   },
   "source": [
    "---\n",
    "\n",
    "### Exercise 14:\n",
    "Check if the string `\"data\"` starts with `\"da\"` and ends with `\"ta\"`.\n",
    "\n",
    "```python\n",
    "# Exercise 14"
   ]
  },
  {
   "cell_type": "code",
   "execution_count": 38,
   "id": "6711383f-648b-4650-a046-7165c2a4052a",
   "metadata": {},
   "outputs": [
    {
     "name": "stdout",
     "output_type": "stream",
     "text": [
      "True\n"
     ]
    }
   ],
   "source": [
    "dt=\"data\"\n",
    "print(dt.startswith(\"da\"))"
   ]
  },
  {
   "cell_type": "code",
   "execution_count": 39,
   "id": "7ec57c55-ec4c-4a5a-b85b-b68c8acfb4cb",
   "metadata": {},
   "outputs": [
    {
     "name": "stdout",
     "output_type": "stream",
     "text": [
      "True\n"
     ]
    }
   ],
   "source": [
    "print(dt.endswith(\"ta\"))"
   ]
  },
  {
   "cell_type": "markdown",
   "id": "1883f6bf-3aa7-4643-a3c1-69e4c4d05f3a",
   "metadata": {
    "id": "bea983a3"
   },
   "source": [
    "```\n",
    "\n",
    "---\n",
    "\n",
    "### Exercise 15:\n",
    "Reverse the string `\"machine learning\"` and store the result in `reversed_text`.\n",
    "\n",
    "```python\n",
    "# Exercise 15"
   ]
  },
  {
   "cell_type": "code",
   "execution_count": 45,
   "id": "964b1aaa-6ee9-4c5e-9e6c-f2802312252f",
   "metadata": {},
   "outputs": [
    {
     "data": {
      "text/plain": [
       "'gninrael enihcam'"
      ]
     },
     "execution_count": 45,
     "metadata": {},
     "output_type": "execute_result"
    }
   ],
   "source": [
    "ml=\"machine learning\"\n",
    "reversed_text=ml[::-1]\n",
    "reversed_text"
   ]
  },
  {
   "cell_type": "markdown",
   "id": "6304651b-a7d0-4468-9b3c-98810e45af98",
   "metadata": {
    "id": "bea983a3"
   },
   "source": [
    "```\n",
    "\n",
    "---\n",
    "\n",
    "### Exercise 16:\n",
    "Convert the first letter of each word in the string `\"machine learning is fun\"` to uppercase.\n",
    "\n",
    "```python\n",
    "# Exercise 16"
   ]
  },
  {
   "cell_type": "code",
   "execution_count": 46,
   "id": "f8659b10-0e18-462a-8693-3d092d4422ae",
   "metadata": {},
   "outputs": [
    {
     "data": {
      "text/plain": [
       "'MACHINE LEARNING IS FUN'"
      ]
     },
     "execution_count": 46,
     "metadata": {},
     "output_type": "execute_result"
    }
   ],
   "source": [
    "mlf=\"machine learning is fun\"\n",
    "mlf.upper()"
   ]
  },
  {
   "cell_type": "markdown",
   "id": "17f1220c-58a9-4201-b423-f37085204f93",
   "metadata": {
    "id": "bea983a3"
   },
   "source": [
    "```\n",
    "\n",
    "---\n",
    "\n",
    "### Exercise 17:\n",
    "Create a multiline string representing a poem and store it in a variable `poem`.\n",
    "\n",
    "```python\n",
    "# Exercise 17\n",
    "```\n",
    "\n",
    "---"
   ]
  },
  {
   "cell_type": "code",
   "execution_count": 48,
   "id": "a86cc622-1e76-48f8-ad09-050518adcba3",
   "metadata": {},
   "outputs": [],
   "source": [
    "\n",
    "poeme=\"\"\"je suis venu pour prendre ce qui m'appartient.\n",
    "sa ne  sera pas facile.il faudra du courage et du patience.\n",
    "je ferais tout pour maitriser python.\n",
    "\n",
    "A aims les cours sont difficiles. un emploi surcharge\n",
    "pas de sommeil ,ni de distraction\"\"\""
   ]
  },
  {
   "cell_type": "markdown",
   "id": "79ba71a3-dacd-40d1-ad3c-1457ea053d3a",
   "metadata": {
    "id": "bea983a3"
   },
   "source": [
    "### Exercise 18:\n",
    "Write a string to a file named `\"output.txt\"`.\n",
    "\n",
    "```python\n",
    "# Exercise 18"
   ]
  },
  {
   "cell_type": "code",
   "execution_count": 66,
   "id": "5ecfb55b-3f64-46d9-b4f8-240fa0da2d09",
   "metadata": {},
   "outputs": [
    {
     "data": {
      "text/plain": [
       "47"
      ]
     },
     "execution_count": 66,
     "metadata": {},
     "output_type": "execute_result"
    }
   ],
   "source": [
    "file=open(\"output.txt\", \"w\") \n",
    "file.write(\"This is the string I want to write to the file.\")"
   ]
  },
  {
   "cell_type": "markdown",
   "id": "6255e36b-c112-424f-8dec-5776c783b615",
   "metadata": {
    "id": "bea983a3"
   },
   "source": [
    "```\n",
    "\n",
    "---\n",
    "\n",
    "### Exercise 19:\n",
    "Read the contents of a file named `\"data.txt\"` and print it line by line.\n",
    "\n",
    "```python"
   ]
  },
  {
   "cell_type": "code",
   "execution_count": 85,
   "id": "f98688a9-1f65-4246-af8c-6e2bd1cab511",
   "metadata": {},
   "outputs": [
    {
     "ename": "FileNotFoundError",
     "evalue": "[Errno 2] No such file or directory: 'data.txt'",
     "output_type": "error",
     "traceback": [
      "\u001b[1;31m---------------------------------------------------------------------------\u001b[0m",
      "\u001b[1;31mFileNotFoundError\u001b[0m                         Traceback (most recent call last)",
      "Cell \u001b[1;32mIn[85], line 1\u001b[0m\n\u001b[1;32m----> 1\u001b[0m file\u001b[38;5;241m=\u001b[39m\u001b[38;5;28mopen\u001b[39m(\u001b[38;5;124m\"\u001b[39m\u001b[38;5;124mdata.txt\u001b[39m\u001b[38;5;124m\"\u001b[39m,\u001b[38;5;124m\"\u001b[39m\u001b[38;5;124mr\u001b[39m\u001b[38;5;124m\"\u001b[39m)\n\u001b[0;32m      2\u001b[0m s\u001b[38;5;241m=\u001b[39m file\u001b[38;5;241m.\u001b[39mreadlines()\n\u001b[0;32m      3\u001b[0m \u001b[38;5;28mprint\u001b[39m(s)\n",
      "File \u001b[1;32m~\\AppData\\Local\\anaconda3\\Lib\\site-packages\\IPython\\core\\interactiveshell.py:324\u001b[0m, in \u001b[0;36m_modified_open\u001b[1;34m(file, *args, **kwargs)\u001b[0m\n\u001b[0;32m    317\u001b[0m \u001b[38;5;28;01mif\u001b[39;00m file \u001b[38;5;129;01min\u001b[39;00m {\u001b[38;5;241m0\u001b[39m, \u001b[38;5;241m1\u001b[39m, \u001b[38;5;241m2\u001b[39m}:\n\u001b[0;32m    318\u001b[0m     \u001b[38;5;28;01mraise\u001b[39;00m \u001b[38;5;167;01mValueError\u001b[39;00m(\n\u001b[0;32m    319\u001b[0m         \u001b[38;5;124mf\u001b[39m\u001b[38;5;124m\"\u001b[39m\u001b[38;5;124mIPython won\u001b[39m\u001b[38;5;124m'\u001b[39m\u001b[38;5;124mt let you open fd=\u001b[39m\u001b[38;5;132;01m{\u001b[39;00mfile\u001b[38;5;132;01m}\u001b[39;00m\u001b[38;5;124m by default \u001b[39m\u001b[38;5;124m\"\u001b[39m\n\u001b[0;32m    320\u001b[0m         \u001b[38;5;124m\"\u001b[39m\u001b[38;5;124mas it is likely to crash IPython. If you know what you are doing, \u001b[39m\u001b[38;5;124m\"\u001b[39m\n\u001b[0;32m    321\u001b[0m         \u001b[38;5;124m\"\u001b[39m\u001b[38;5;124myou can use builtins\u001b[39m\u001b[38;5;124m'\u001b[39m\u001b[38;5;124m open.\u001b[39m\u001b[38;5;124m\"\u001b[39m\n\u001b[0;32m    322\u001b[0m     )\n\u001b[1;32m--> 324\u001b[0m \u001b[38;5;28;01mreturn\u001b[39;00m io_open(file, \u001b[38;5;241m*\u001b[39margs, \u001b[38;5;241m*\u001b[39m\u001b[38;5;241m*\u001b[39mkwargs)\n",
      "\u001b[1;31mFileNotFoundError\u001b[0m: [Errno 2] No such file or directory: 'data.txt'"
     ]
    }
   ],
   "source": [
    "file=open(\"data.txt\",\"r\")\n",
    "s= file.readlines()\n",
    "print(s)\n"
   ]
  },
  {
   "cell_type": "markdown",
   "id": "28e1f428-44b6-4f8d-adc3-29a7adb4df0f",
   "metadata": {
    "id": "bea983a3"
   },
   "source": [
    "---\n",
    "\n",
    "### Exercise 20:\n",
    "Check if a file `\"example.txt\"` exists before opening it.\n",
    "\n",
    "```python\n",
    "# Exercise 20"
   ]
  },
  {
   "cell_type": "code",
   "execution_count": 73,
   "id": "6c10b8e2-d268-459a-9fdc-4e63324e35ce",
   "metadata": {},
   "outputs": [
    {
     "name": "stdout",
     "output_type": "stream",
     "text": [
      "File does not exist.\n"
     ]
    }
   ],
   "source": [
    "import os\n",
    "\n",
    "if os.path.exists(\"example.txt\"):\n",
    "    with open(\"example.txt\", \"r\") as file:\n",
    "        content = file.read()\n",
    "        print(content)\n",
    "else:\n",
    "    print(\"File does not exist.\")\n"
   ]
  },
  {
   "cell_type": "markdown",
   "id": "82540206-52a3-4aa9-8ca9-97a9f89f075e",
   "metadata": {
    "id": "bea983a3"
   },
   "source": [
    "```\n",
    "\n",
    "---\n",
    "\n",
    "### Exercise 21:\n",
    "Append a new line `\"This is a new line\"` to an existing file `\"notes.txt\"`.\n",
    "\n",
    "```python\n",
    "# Exercise 21"
   ]
  },
  {
   "cell_type": "code",
   "execution_count": 74,
   "id": "8fbdd49b-06c9-4b98-ac2e-8d3d06abbb33",
   "metadata": {},
   "outputs": [],
   "source": [
    "with open(\"notes.txt\", \"a\") as file:\n",
    "    file.write(\"This is a new line\\n\")"
   ]
  },
  {
   "cell_type": "markdown",
   "id": "f8132bf3-6940-4059-8c09-92b465006423",
   "metadata": {
    "id": "bea983a3"
   },
   "source": [
    "```\n",
    "\n",
    "---\n",
    "\n",
    "### Exercise 22:\n",
    "Read the contents of a file `\"log.txt\"` and store each line in a list `log_lines`.\n",
    "\n",
    "```python\n",
    "# Exercise 22"
   ]
  },
  {
   "cell_type": "code",
   "execution_count": 79,
   "id": "d2d0ff4c-2311-4a9f-93c1-2839aa1de990",
   "metadata": {},
   "outputs": [
    {
     "ename": "FileNotFoundError",
     "evalue": "[Errno 2] No such file or directory: 'log.txt'",
     "output_type": "error",
     "traceback": [
      "\u001b[1;31m---------------------------------------------------------------------------\u001b[0m",
      "\u001b[1;31mFileNotFoundError\u001b[0m                         Traceback (most recent call last)",
      "Cell \u001b[1;32mIn[79], line 1\u001b[0m\n\u001b[1;32m----> 1\u001b[0m \u001b[38;5;28;01mwith\u001b[39;00m \u001b[38;5;28mopen\u001b[39m(\u001b[38;5;124m\"\u001b[39m\u001b[38;5;124mlog.txt\u001b[39m\u001b[38;5;124m\"\u001b[39m, \u001b[38;5;124m\"\u001b[39m\u001b[38;5;124mr\u001b[39m\u001b[38;5;124m\"\u001b[39m) \u001b[38;5;28;01mas\u001b[39;00m file:\n\u001b[0;32m      2\u001b[0m      log_lines \u001b[38;5;241m=\u001b[39m file\u001b[38;5;241m.\u001b[39mreadlines()\n",
      "File \u001b[1;32m~\\AppData\\Local\\anaconda3\\Lib\\site-packages\\IPython\\core\\interactiveshell.py:324\u001b[0m, in \u001b[0;36m_modified_open\u001b[1;34m(file, *args, **kwargs)\u001b[0m\n\u001b[0;32m    317\u001b[0m \u001b[38;5;28;01mif\u001b[39;00m file \u001b[38;5;129;01min\u001b[39;00m {\u001b[38;5;241m0\u001b[39m, \u001b[38;5;241m1\u001b[39m, \u001b[38;5;241m2\u001b[39m}:\n\u001b[0;32m    318\u001b[0m     \u001b[38;5;28;01mraise\u001b[39;00m \u001b[38;5;167;01mValueError\u001b[39;00m(\n\u001b[0;32m    319\u001b[0m         \u001b[38;5;124mf\u001b[39m\u001b[38;5;124m\"\u001b[39m\u001b[38;5;124mIPython won\u001b[39m\u001b[38;5;124m'\u001b[39m\u001b[38;5;124mt let you open fd=\u001b[39m\u001b[38;5;132;01m{\u001b[39;00mfile\u001b[38;5;132;01m}\u001b[39;00m\u001b[38;5;124m by default \u001b[39m\u001b[38;5;124m\"\u001b[39m\n\u001b[0;32m    320\u001b[0m         \u001b[38;5;124m\"\u001b[39m\u001b[38;5;124mas it is likely to crash IPython. If you know what you are doing, \u001b[39m\u001b[38;5;124m\"\u001b[39m\n\u001b[0;32m    321\u001b[0m         \u001b[38;5;124m\"\u001b[39m\u001b[38;5;124myou can use builtins\u001b[39m\u001b[38;5;124m'\u001b[39m\u001b[38;5;124m open.\u001b[39m\u001b[38;5;124m\"\u001b[39m\n\u001b[0;32m    322\u001b[0m     )\n\u001b[1;32m--> 324\u001b[0m \u001b[38;5;28;01mreturn\u001b[39;00m io_open(file, \u001b[38;5;241m*\u001b[39margs, \u001b[38;5;241m*\u001b[39m\u001b[38;5;241m*\u001b[39mkwargs)\n",
      "\u001b[1;31mFileNotFoundError\u001b[0m: [Errno 2] No such file or directory: 'log.txt'"
     ]
    }
   ],
   "source": [
    "with open(\"log.txt\", \"r\") as file:\n",
    "     log_lines = file.readlines()"
   ]
  },
  {
   "cell_type": "markdown",
   "id": "8bc5d52e-2095-4134-a92e-b5242bf78255",
   "metadata": {
    "id": "bea983a3"
   },
   "source": [
    "```\n",
    "\n",
    "---\n",
    "\n",
    "### Exercise 23:\n",
    "Create a new file `\"report.txt\"` and write the string `\"Data analysis report\"` to it.\n",
    "\n",
    "```python\n",
    "# Exercise 23"
   ]
  },
  {
   "cell_type": "code",
   "execution_count": null,
   "id": "04bfe24b-2b45-4798-84fb-889436610fb7",
   "metadata": {},
   "outputs": [],
   "source": [
    "with open(\"report.txt\", \"w\") as file:\n",
    "    file.write(\"Data analysis report\")"
   ]
  },
  {
   "cell_type": "markdown",
   "id": "9654b780-c58d-48aa-9931-1c9d7479b404",
   "metadata": {
    "id": "bea983a3"
   },
   "source": [
    "```\n",
    "\n",
    "---\n",
    "\n",
    "### Exercise 24:\n",
    "Replace the word `\"error\"` with `\"issue\"` in a file `\"log.txt\"`.\n",
    "\n",
    "```python\n",
    "# Exercise 24"
   ]
  },
  {
   "cell_type": "code",
   "execution_count": null,
   "id": "2458a929-59c7-428b-851d-7a1490c173ff",
   "metadata": {},
   "outputs": [],
   "source": [
    "with open(\"log.txt\", \"r\") as file:\n",
    "    content = file.read()\n",
    "updated_content = content.replace(\"error\", \"issue\")\n",
    "with open(\"log.txt\", \"w\") as file:\n",
    "    file.write(updated_content)"
   ]
  },
  {
   "cell_type": "markdown",
   "id": "75ee38a6-44d1-4688-a5ff-501de2310021",
   "metadata": {
    "id": "bea983a3"
   },
   "source": [
    "```\n",
    "\n",
    "---\n",
    "\n",
    "### Exercise 25:\n",
    "Count the number of words in a text file `\"document.txt\"`.\n",
    "\n",
    "```python\n",
    "# Exercise 25"
   ]
  },
  {
   "cell_type": "code",
   "execution_count": null,
   "id": "1576d2c8-390f-422f-b8a2-f79e8b6d640a",
   "metadata": {},
   "outputs": [],
   "source": [
    " Open the file in read mode\n",
    "with open(\"document.txt\", \"r\") as file:\n",
    "    content = file.read()\n",
    "    words = content.split()\n",
    "    word_count = len(words)\n",
    "print(f\"The number of words in 'document.txt' is: {word_count}\")"
   ]
  },
  {
   "cell_type": "markdown",
   "id": "1922edf5-bae7-4b2c-a748-dc2566b438f3",
   "metadata": {
    "id": "bea983a3"
   },
   "source": [
    "```\n",
    "\n",
    "---\n",
    "\n",
    "### Exercise 26:\n",
    "Write a Python script that reads a file `\"essay.txt\"` and prints the total number of lines, words, and characters.\n",
    "\n",
    "```python\n",
    "# Exercise 26"
   ]
  },
  {
   "cell_type": "code",
   "execution_count": null,
   "id": "f7c11fdb-2ccb-41c7-bbae-bdd395fff169",
   "metadata": {},
   "outputs": [],
   "source": [
    "with open(\"essay.txt\", \"r\", encoding=\"utf-8\") as file:\n",
    "    lines = file.readlines()\n",
    "line_count = len(lines)\n",
    "word_count = 0\n",
    "char_count = 0\n",
    "for line in lines:\n",
    "    words = line.split()\n",
    "    word_count += len(words)\n",
    "    char_count += len(line)\n",
    "\n",
    "# Print the results\n",
    "print(f\"Total Lines: {line_count}\")\n",
    "print(f\"Total Words: {word_count}\")\n",
    "print(f\"Total Characters: {char_count}\")"
   ]
  },
  {
   "cell_type": "markdown",
   "id": "9803ee47-cd55-4a39-ad60-9aeb2999f77d",
   "metadata": {
    "id": "bea983a3"
   },
   "source": [
    "```\n",
    "\n",
    "---\n",
    "\n",
    "### Exercise 27:\n",
    "Copy the contents of one file `\"source.txt\"` to another file `\"destination.txt\"`.\n",
    "\n",
    "```python\n",
    "# Exercise 27"
   ]
  },
  {
   "cell_type": "code",
   "execution_count": null,
   "id": "f4776817-43df-44fc-9233-88586e74e1fe",
   "metadata": {},
   "outputs": [],
   "source": [
    "ith open(\"source.txt\", \"r\") as source_file:\n",
    "    content = source_file.read()\n",
    "with open(\"destination.txt\", \"w\") as destination_file:\n",
    "    destination_file.write(content)"
   ]
  },
  {
   "cell_type": "markdown",
   "id": "0cf64400-acd4-4f22-822b-4fbdf87848e2",
   "metadata": {
    "id": "bea983a3"
   },
   "source": [
    "```\n",
    "\n",
    "---\n",
    "\n",
    "### Exercise 28:\n",
    "Write a Python function that takes a filename as input and returns the number of lines in the file.\n",
    "\n",
    "```python\n",
    "# Exercise 28"
   ]
  },
  {
   "cell_type": "code",
   "execution_count": null,
   "id": "9ac1ff03-3a18-4ef9-8d13-baee5234efaf",
   "metadata": {},
   "outputs": [],
   "source": [
    "def count_lines(filename):\n",
    "        with open(filename, 'r') as file:\n",
    "            line_count = sum(1 for line in file)\n",
    "        return line_count\n"
   ]
  },
  {
   "cell_type": "markdown",
   "id": "ab2e19e8-f429-4fff-ab05-e03a885dcccd",
   "metadata": {
    "id": "bea983a3"
   },
   "source": [
    "```\n",
    "\n",
    "---\n",
    "\n",
    "### Exercise 29:\n",
    "Extract all the words from a text file `\"article.txt\"` that contain more than 5 characters.\n",
    "\n",
    "```python\n",
    "# Exercise 29"
   ]
  },
  {
   "cell_type": "code",
   "execution_count": 86,
   "id": "7210440f-c607-4cb9-8efd-d66c4b3d22f4",
   "metadata": {},
   "outputs": [
    {
     "ename": "FileNotFoundError",
     "evalue": "[Errno 2] No such file or directory: 'article.txt'",
     "output_type": "error",
     "traceback": [
      "\u001b[1;31m---------------------------------------------------------------------------\u001b[0m",
      "\u001b[1;31mFileNotFoundError\u001b[0m                         Traceback (most recent call last)",
      "Cell \u001b[1;32mIn[86], line 1\u001b[0m\n\u001b[1;32m----> 1\u001b[0m \u001b[38;5;28;01mwith\u001b[39;00m \u001b[38;5;28mopen\u001b[39m(\u001b[38;5;124m\"\u001b[39m\u001b[38;5;124marticle.txt\u001b[39m\u001b[38;5;124m\"\u001b[39m, \u001b[38;5;124m\"\u001b[39m\u001b[38;5;124mr\u001b[39m\u001b[38;5;124m\"\u001b[39m) \u001b[38;5;28;01mas\u001b[39;00m file:\n\u001b[0;32m      2\u001b[0m     text \u001b[38;5;241m=\u001b[39m file\u001b[38;5;241m.\u001b[39mread()\n\u001b[0;32m      3\u001b[0m long_words \u001b[38;5;241m=\u001b[39m [word \u001b[38;5;28;01mfor\u001b[39;00m word \u001b[38;5;129;01min\u001b[39;00m text\u001b[38;5;241m.\u001b[39msplit() \u001b[38;5;28;01mif\u001b[39;00m \u001b[38;5;28mlen\u001b[39m(word) \u001b[38;5;241m>\u001b[39m \u001b[38;5;241m5\u001b[39m]\n",
      "File \u001b[1;32m~\\AppData\\Local\\anaconda3\\Lib\\site-packages\\IPython\\core\\interactiveshell.py:324\u001b[0m, in \u001b[0;36m_modified_open\u001b[1;34m(file, *args, **kwargs)\u001b[0m\n\u001b[0;32m    317\u001b[0m \u001b[38;5;28;01mif\u001b[39;00m file \u001b[38;5;129;01min\u001b[39;00m {\u001b[38;5;241m0\u001b[39m, \u001b[38;5;241m1\u001b[39m, \u001b[38;5;241m2\u001b[39m}:\n\u001b[0;32m    318\u001b[0m     \u001b[38;5;28;01mraise\u001b[39;00m \u001b[38;5;167;01mValueError\u001b[39;00m(\n\u001b[0;32m    319\u001b[0m         \u001b[38;5;124mf\u001b[39m\u001b[38;5;124m\"\u001b[39m\u001b[38;5;124mIPython won\u001b[39m\u001b[38;5;124m'\u001b[39m\u001b[38;5;124mt let you open fd=\u001b[39m\u001b[38;5;132;01m{\u001b[39;00mfile\u001b[38;5;132;01m}\u001b[39;00m\u001b[38;5;124m by default \u001b[39m\u001b[38;5;124m\"\u001b[39m\n\u001b[0;32m    320\u001b[0m         \u001b[38;5;124m\"\u001b[39m\u001b[38;5;124mas it is likely to crash IPython. If you know what you are doing, \u001b[39m\u001b[38;5;124m\"\u001b[39m\n\u001b[0;32m    321\u001b[0m         \u001b[38;5;124m\"\u001b[39m\u001b[38;5;124myou can use builtins\u001b[39m\u001b[38;5;124m'\u001b[39m\u001b[38;5;124m open.\u001b[39m\u001b[38;5;124m\"\u001b[39m\n\u001b[0;32m    322\u001b[0m     )\n\u001b[1;32m--> 324\u001b[0m \u001b[38;5;28;01mreturn\u001b[39;00m io_open(file, \u001b[38;5;241m*\u001b[39margs, \u001b[38;5;241m*\u001b[39m\u001b[38;5;241m*\u001b[39mkwargs)\n",
      "\u001b[1;31mFileNotFoundError\u001b[0m: [Errno 2] No such file or directory: 'article.txt'"
     ]
    }
   ],
   "source": [
    "with open(\"article.txt\", \"r\") as file:\n",
    "text = file.read()\n",
    "long_words = [word for word in text.split() if len(word) > 5]\n",
    "print(long_words)"
   ]
  },
  {
   "cell_type": "markdown",
   "id": "24bf7976-5c18-4fe8-ba3e-3826846ffd19",
   "metadata": {
    "id": "bea983a3"
   },
   "source": [
    "```\n",
    "\n",
    "---\n",
    "\n",
    "### Exercise 30:\n",
    "Convert the contents of a file `\"notes.txt\"` to uppercase and save the result in another file `\"uppercase_notes.txt\"`.\n",
    "\n",
    "```python\n",
    "# Exercise 30"
   ]
  },
  {
   "cell_type": "code",
   "execution_count": null,
   "id": "3f282338-c3c8-4721-bc95-4a3148d57ace",
   "metadata": {},
   "outputs": [],
   "source": [
    "with open('notes.txt', 'r') as file:\n",
    "    content = file.read()\n",
    "uppercase_content = content.upper()\n",
    "with open('uppercase_notes.txt', 'w') as file:\n",
    "    file.write(uppercase_content)"
   ]
  },
  {
   "cell_type": "markdown",
   "id": "fd177d46-7107-466b-89f4-323ba657e642",
   "metadata": {
    "id": "bea983a3"
   },
   "source": [
    "```\n",
    "\n",
    "---\n",
    "\n",
    "### Exercise 31:\n",
    "Write a Python script that reads a file and removes all empty lines.\n",
    "\n",
    "```python\n",
    "# Exercise 31"
   ]
  },
  {
   "cell_type": "code",
   "execution_count": null,
   "id": "4c8785b3-9a96-4ed2-9c48-065ce3425eb5",
   "metadata": {},
   "outputs": [],
   "source": [
    "input_file = \"input.txt\"  \n",
    "output_file = \"output.txt\"\n",
    "with open(input_file, \"r\") as infile, open(output_file, \"w\") as outfile:\n",
    "    for line in infile:\n",
    "        if line.strip(): \n",
    "            outfile.write(line)\n",
    "print(f\"Empty lines removed. Cleaned content saved to '{output_file}'.\")"
   ]
  },
  {
   "cell_type": "markdown",
   "id": "2d9bc3f4-5c81-4234-9fc4-627b7d5f711f",
   "metadata": {
    "id": "bea983a3"
   },
   "source": [
    "```\n",
    "\n",
    "---\n",
    "\n",
    "### Exercise 32:\n",
    "Open a file `\"config.txt\"` in both read and write mode.\n",
    "\n",
    "```python\n",
    "# Exercise 32"
   ]
  },
  {
   "cell_type": "code",
   "execution_count": null,
   "id": "0f662aac-d13c-46fb-aec6-2de5ed988a06",
   "metadata": {},
   "outputs": [],
   "source": [
    "with open(\"config.txt\", \"r+\") as file:\n",
    "    content = file.read()\n",
    "    print(\"Current content:\", content)\n",
    "    file.write(\"\\nNew configuration added.\")"
   ]
  },
  {
   "cell_type": "markdown",
   "id": "545cd2bb-60fc-46f5-8735-b14d283461d8",
   "metadata": {
    "id": "bea983a3"
   },
   "source": [
    "```\n",
    "\n",
    "---\n",
    "\n",
    "### Exercise 33:\n",
    "Write a Python function that reads a file and prints the longest line in the file.\n",
    "\n",
    "```python\n",
    "# Exercise 33"
   ]
  },
  {
   "cell_type": "code",
   "execution_count": null,
   "id": "a20cfaed-7d60-4bf7-b608-802db62e0067",
   "metadata": {},
   "outputs": [],
   "source": [
    "def print_longest_line(file_path):\n",
    "    try:\n",
    "        with open(file_path, 'r', encoding='utf-8') as file:\n",
    "            longest_line = max(file, key=len) \n",
    "            print(\"Longest line:\")\n",
    "            print(longest_line.strip())  \n",
    "    except FileNotFoundError:\n",
    "        print(f\"Error: The file '{file_path}' was not found.\")\n",
    "    except Exception as e:\n",
    "        print(f\"An error occurred: {e}\")"
   ]
  },
  {
   "cell_type": "markdown",
   "id": "68bbd604-5c69-4df7-ae72-d85f86b86aad",
   "metadata": {
    "id": "bea983a3"
   },
   "source": [
    "```\n",
    "\n",
    "---\n",
    "\n",
    "### Exercise 34:\n",
    "Write a Python script to count the frequency of each letter in a text file `\"message.txt\"`.\n",
    "\n",
    "```python\n",
    "# Exercise 34"
   ]
  },
  {
   "cell_type": "code",
   "execution_count": null,
   "id": "8bf88607-0a44-4b47-9c41-c7faa7205094",
   "metadata": {},
   "outputs": [],
   "source": [
    "import string\n",
    "with open(\"message.txt\", \"r\") as file:\n",
    "    content = file.read()\n",
    "filtered_content = ''.join(char.lower() for char in content if char in string.ascii_letters)\n",
    "letter_frequency = Counter(filtered_content)\n",
    "for letter, frequency in sorted(letter_frequency.items()):\n",
    "    print(f\"{letter}: {frequency}\")"
   ]
  },
  {
   "cell_type": "markdown",
   "id": "7dc27e91-7f38-4196-a8a2-9d2cb672c58d",
   "metadata": {
    "id": "bea983a3"
   },
   "source": [
    "```\n",
    "\n",
    "---\n",
    "\n",
    "### Exercise 35:\n",
    "Write a Python script that reads a file and prints the total number of characters, excluding spaces.\n",
    "\n",
    "```python\n",
    "# Exercise 35"
   ]
  },
  {
   "cell_type": "code",
   "execution_count": null,
   "id": "e8bd7ac8-05df-433c-975f-d89e265338a2",
   "metadata": {},
   "outputs": [],
   "source": [
    "   with open(file_path, 'r', encoding='utf-8') as file:\n",
    "            content = file.read()\n",
    "            char_count = len(content.replace(\" \", \"\"))\n",
    "            print(f\"Total number of characters (excluding spaces): {char_count}\")\n",
    "    except FileNotFoundError:\n",
    "        print(\"Error: The file was not found.\")\n",
    "    except Exception as e:\n",
    "        print(f\"An error occurred: {e}\")\n",
    "file_path = 'your_file.txt'"
   ]
  },
  {
   "cell_type": "markdown",
   "id": "e8ed2d8f-cce1-421a-a61e-36de3263bb9a",
   "metadata": {
    "id": "bea983a3"
   },
   "source": [
    "```\n",
    "\n",
    "---\n",
    "\n",
    "### Exercise 36:\n",
    "Create a Python script to check whether a file is empty or not.\n",
    "\n",
    "```python\n",
    "# Exercise 36"
   ]
  },
  {
   "cell_type": "markdown",
   "id": "e7c38aa9-08e7-4a1f-afcc-4040aa8be953",
   "metadata": {},
   "source": [
    "def is_file_empty(file_path):\n",
    "    \"\"\"Check if a file is empty.\"\"\"\n",
    "    if os.path.exists(file_path):\n",
    "        if os.path.getsize(file_path) == 0:\n",
    "            print(f\"The file '{file_path}' is empty.\")\n",
    "        else:\n",
    "            print(f\"The file '{file_path}' is not empty.\")\n",
    "    else:\n",
    "        print(f\"The file '{file_path}' does not exist.\")"
   ]
  },
  {
   "cell_type": "markdown",
   "id": "f73b87bf-e047-48bf-aaea-4e8b5077a243",
   "metadata": {
    "id": "bea983a3"
   },
   "source": [
    "```\n",
    "\n",
    "---\n",
    "\n",
    "### Exercise 37:\n",
    "Write a Python function that reads a file and removes all punctuation marks from the text.\n",
    "\n",
    "```python\n",
    "# Exercise 37"
   ]
  },
  {
   "cell_type": "code",
   "execution_count": null,
   "id": "17f327b4-a964-4154-b6ac-9cf97df762ed",
   "metadata": {},
   "outputs": [],
   "source": [
    "import string\n",
    "def remove_punctuation_from_file(file_path):\n",
    "    try:\n",
    "        with open(file_path, 'r', encoding='utf-8') as file:\n",
    "            text = file.read()\n",
    "        translator = str.maketrans('', '', string.punctuation)\n",
    "        cleaned_text = text.translate(translator)\n",
    "        \n",
    "        return cleaned_text\n",
    "    except FileNotFoundError:\n",
    "        return \"Error: The file was not found.\"\n",
    "    except Exception as e:\n",
    "        return f\"An error occurred: {e}\""
   ]
  },
  {
   "cell_type": "code",
   "execution_count": null,
   "id": "cdd767d8-bc4e-4dab-a935-73e4afe2aa4f",
   "metadata": {},
   "outputs": [],
   "source": []
  },
  {
   "cell_type": "markdown",
   "id": "83cdf80a-8651-4238-acf8-c94bef3bb96a",
   "metadata": {
    "id": "bea983a3"
   },
   "source": [
    "```\n",
    "\n",
    "---\n",
    "\n",
    "### Exercise 39:\n",
    "Write a Python script to count the number of lines that start with a specific letter (e.g., \"A\") in a text file.\n",
    "\n",
    "```python\n",
    "# Exercise 39"
   ]
  },
  {
   "cell_type": "code",
   "execution_count": 1,
   "id": "cafb1c6d-fc94-4f20-8967-8be2161c1d67",
   "metadata": {},
   "outputs": [],
   "source": [
    "def count_lines_starting_with(filename, letter):\n",
    "    count = 0\n",
    "    with open(filename, 'r') as file:\n",
    "        for line in file:\n",
    "            if line.strip().startswith(letter):\n",
    "                count += 1\n",
    "    return count\n"
   ]
  },
  {
   "cell_type": "markdown",
   "id": "a8f60eed-b083-4af4-9db8-891e93b22ee9",
   "metadata": {
    "id": "bea983a3"
   },
   "source": [
    "```\n",
    "\n",
    "---\n",
    "\n",
    "### Exercise 40:\n",
    "Write a Python function that takes a string as input and writes it to a file `\"output.txt\"` in reverse order.\n",
    "\n",
    "```python\n",
    "# Exercise 40"
   ]
  },
  {
   "cell_type": "code",
   "execution_count": null,
   "id": "87397782-1a16-4e44-813b-f533d5a1b62a",
   "metadata": {},
   "outputs": [],
   "source": [
    "def write_reversed_to_file(input_string):\n",
    "    try:\n",
    "        reversed_string = input_string[::-1]\n",
    "        with open(\"output.txt\", \"w\") as file:\n",
    "            file.write(reversed_string)\n",
    "        print(\"Reversed string successfully written to 'output.txt'.\")\n",
    "    except Exception as e:\n",
    "        print(f\"An error occurred: {e}\")"
   ]
  },
  {
   "cell_type": "markdown",
   "id": "98219f28-6879-4d3b-9f43-6af7271d7d5c",
   "metadata": {
    "id": "bea983a3"
   },
   "source": [
    "```\n",
    "\n",
    "---\n",
    "\n",
    "### Exercise 41:\n",
    "Write a Python script that reads a file and prints all the lines that contain the word `\"Python\"`.\n",
    "\n",
    "```python\n",
    "# Exercise 41"
   ]
  },
  {
   "cell_type": "code",
   "execution_count": null,
   "id": "fc0b4d4c-3e61-4380-89fa-35c1f67c44eb",
   "metadata": {},
   "outputs": [],
   "source": [
    "with open('your_file.txt', 'r') as file:\n",
    "    for line in file:\n",
    "        if 'Python' in line:\n",
    "            print(line.strip())"
   ]
  },
  {
   "cell_type": "markdown",
   "id": "12cff3ab-ed5a-4afc-b78a-ee16354f8433",
   "metadata": {
    "id": "bea983a3"
   },
   "source": [
    "```\n",
    "\n",
    "---\n",
    "\n",
    "### Exercise 42:\n",
    "Write a Python script that opens a file and removes all numeric digits from the file's content.\n",
    "\n",
    "```python\n",
    "# Exercise 42"
   ]
  },
  {
   "cell_type": "code",
   "execution_count": null,
   "id": "b385e9ca-7252-49e1-a192-1b57c56b03ce",
   "metadata": {},
   "outputs": [],
   "source": [
    "def remove_digits_from_file(file_path):\n",
    "    try:\n",
    "        with open(file_path, 'r') as file:\n",
    "            content = file.read()\n",
    "        updated_content = ''.join(char for char in content if not char.isdigit())\n",
    "        with open(file_path, 'w') as file:\n",
    "            file.write(updated_content)\n",
    "        \n",
    "        print(\"All numeric digits have been removed from the file.\")\n",
    "    except FileNotFoundError:\n",
    "        print(f\"Error: The file '{file_path}' was not found.\")\n",
    "    except Exception as e:\n",
    "        print(f\"An error occurred: {e}\")"
   ]
  },
  {
   "cell_type": "markdown",
   "id": "00bd8620-7511-42c3-affb-6c258db1d597",
   "metadata": {
    "id": "bea983a3"
   },
   "source": [
    "```\n",
    "\n",
    "---\n",
    "\n",
    "### Exercise 43:\n",
    "Write a Python script to find the most frequent word in a text file `\"book.txt\"`.\n",
    "\n",
    "```python\n",
    "# Exercise 43"
   ]
  },
  {
   "cell_type": "code",
   "execution_count": null,
   "id": "710c9e56-98de-4ec5-aec5-aef60e90ecbe",
   "metadata": {},
   "outputs": [],
   "source": [
    "import string\n",
    "from collections import Counter\n",
    "\n",
    "with open(\"book.txt\", \"r\", encoding=\"utf-8\") as file:\n",
    "    text = file.read()\n",
    "translator = str.maketrans(\"\", \"\", string.punctuation)\n",
    "cleaned_text = text.translate(translator).lower()\n",
    "\n",
    "words = cleaned_text.split()\n",
    "word_counts = Counter(words)\n",
    "most_frequent_word, frequency = word_counts.most_common(1)[0]\n",
    "print(f\"The most frequent word is '{most_frequent_word}' with a frequency of {frequency}.\")"
   ]
  },
  {
   "cell_type": "markdown",
   "id": "0e471d77-a16f-4c7d-a54d-7e5104aace1c",
   "metadata": {
    "id": "bea983a3"
   },
   "source": [
    "```\n",
    "\n",
    "---\n",
    "\n",
    "### Exercise 44:\n",
    "Write a Python script that reads a file and prints all the lines that contain exactly 5 words.\n",
    "\n",
    "```python\n",
    "# Exercise 44"
   ]
  },
  {
   "cell_type": "code",
   "execution_count": null,
   "id": "28cbff41-bab2-479b-940a-54eb163804cf",
   "metadata": {},
   "outputs": [],
   "source": [
    "def find_five_word_lines(filename):\n",
    "    with open(filename, 'r') as file:\n",
    "        for line in file:\n",
    "            words = line.strip().split()\n",
    "            if len(words) == 5:\n",
    "                print(line.strip())\n",
    "\n",
    "find_five_word_lines('yourfile.txt')"
   ]
  },
  {
   "cell_type": "markdown",
   "id": "9df137eb-4764-48c3-ae0d-3c71af3e8603",
   "metadata": {
    "id": "bea983a3"
   },
   "source": [
    "```\n",
    "\n",
    "---\n",
    "\n",
    "### Exercise 45:\n",
    "Write a Python script to read a file and print the first and last line of the file.\n",
    "\n",
    "```python\n",
    "# Exercise 45"
   ]
  },
  {
   "cell_type": "code",
   "execution_count": null,
   "id": "242fca6a-19cb-4f18-a209-ea9b63dcd283",
   "metadata": {},
   "outputs": [],
   "source": [
    "with open('yourfile.txt', 'r') as file:\n",
    "    lines = file.readlines()\n",
    "    print(lines[0].strip())  \n",
    "    print(lines[-1].strip())  "
   ]
  },
  {
   "cell_type": "markdown",
   "id": "c45e254d-158a-4b36-b2d1-001a6fdaa13c",
   "metadata": {
    "id": "bea983a3"
   },
   "source": [
    "```\n",
    "\n",
    "---\n",
    "\n",
    "### Exercise 46:\n",
    "Write a Python script that checks if a file `\"students.txt\"` is writable.\n",
    "\n",
    "```python\n",
    "# Exercise 46"
   ]
  },
  {
   "cell_type": "code",
   "execution_count": null,
   "id": "c476a0ad-b173-4fc8-bc6b-75fc3f94ed40",
   "metadata": {},
   "outputs": [],
   "source": [
    "import os\n",
    "\n",
    "file_path = \"students.txt\"\n",
    "if os.access(file_path, os.W_OK):\n",
    "    print(\"The file 'students.txt' is writable.\")\n",
    "else:\n",
    "    print(\"The file 'students.txt' is not writable.\")"
   ]
  },
  {
   "cell_type": "markdown",
   "id": "8ca99d20-10aa-464d-8f4c-6eced7f574c0",
   "metadata": {
    "id": "bea983a3"
   },
   "source": [
    "```\n",
    "\n",
    "---\n",
    "\n",
    "### Exercise 47:\n",
    "Create a Python function that opens a file and returns the number of unique words in the file.\n",
    "\n",
    "```python\n",
    "# Exercise 47"
   ]
  },
  {
   "cell_type": "code",
   "execution_count": null,
   "id": "9a74ab3f-f43f-40f0-aa07-c08b538cd968",
   "metadata": {},
   "outputs": [],
   "source": [
    "def count_unique_words(filename):\n",
    "    unique_words = set()\n",
    "    with open(filename, 'r') as file:\n",
    "        for line in file:\n",
    "            words = line.strip().split()\n",
    "            unique_words.update(words)\n",
    "    return len(unique_words)\n"
   ]
  },
  {
   "cell_type": "markdown",
   "id": "07a1c1d0-9786-41b0-bff5-1cd96dca76a7",
   "metadata": {
    "id": "bea983a3"
   },
   "source": [
    "```\n",
    "\n",
    "---\n",
    "\n",
    "### Exercise 48:\n",
    "Write a Python script that reads a file and prints all lines in reverse order.\n",
    "\n",
    "```python\n",
    "# Exercise 48"
   ]
  },
  {
   "cell_type": "code",
   "execution_count": null,
   "id": "25d056f9-9bf7-45b1-8bf6-41fd7c6cb891",
   "metadata": {},
   "outputs": [],
   "source": [
    "with open('yourfile.txt', 'r') as file:\n",
    "    lines = file.readlines()\n",
    "    for line in reversed(lines):\n",
    "        print(line.strip())"
   ]
  },
  {
   "cell_type": "markdown",
   "id": "04964e74-aa2d-4b62-bdb1-ec559783a73d",
   "metadata": {
    "id": "bea983a3"
   },
   "source": [
    "```\n",
    "\n",
    "---\n",
    "\n",
    "### Exercise 49:\n",
    "Write a Python function that reads a file and returns the most common letter in the text.\n",
    "\n",
    "```python\n",
    "# Exercise 49"
   ]
  },
  {
   "cell_type": "code",
   "execution_count": null,
   "id": "691377a2-c66d-484e-bbec-11de7691bf76",
   "metadata": {},
   "outputs": [],
   "source": [
    "def most_common_letter(filename):\n",
    "    letter_count = {}\n",
    "    with open(filename, 'r') as file:\n",
    "        text = file.read().lower()  \n",
    "        for char in text:\n",
    "            if char.isalpha(): \n",
    "                letter_count[char] = letter_count.get(char, 0) + 1\n",
    "    \n",
    "    if not letter_count:\n",
    "        return None\n",
    "    return max(letter_count.items(), key=lambda x: x[1])[0]\n"
   ]
  },
  {
   "cell_type": "markdown",
   "id": "17a4917e-bc65-4199-8358-3ad5d7597245",
   "metadata": {
    "id": "bea983a3"
   },
   "source": [
    "### Exercise 50:\n",
    "Write a Python script that reads a file and replaces every occurrence of `\"Python\"` with `\"Java\"`.\n",
    "\n",
    "```python\n",
    "# Exercise 50\n",
    "```\n",
    "\n",
    "---"
   ]
  },
  {
   "cell_type": "code",
   "execution_count": null,
   "id": "2fd76d8f-8557-43a8-a1a9-2e3297dc7cd0",
   "metadata": {},
   "outputs": [],
   "source": [
    "with open('yourfile.txt', 'r') as file:\n",
    "    content = file.read()\n",
    "\n",
    "new_content = content.replace(\"Python\", \"Java\")\n",
    "\n",
    "with open('yourfile.txt', 'w') as file:\n",
    "    file.write(new_content)\n",
    "\n",
    "print(\"Replacements completed.\")"
   ]
  }
 ],
 "metadata": {
  "colab": {
   "provenance": []
  },
  "kernelspec": {
   "display_name": "Python 3 (ipykernel)",
   "language": "python",
   "name": "python3"
  },
  "language_info": {
   "codemirror_mode": {
    "name": "ipython",
    "version": 3
   },
   "file_extension": ".py",
   "mimetype": "text/x-python",
   "name": "python",
   "nbconvert_exporter": "python",
   "pygments_lexer": "ipython3",
   "version": "3.12.7"
  }
 },
 "nbformat": 4,
 "nbformat_minor": 5
}
